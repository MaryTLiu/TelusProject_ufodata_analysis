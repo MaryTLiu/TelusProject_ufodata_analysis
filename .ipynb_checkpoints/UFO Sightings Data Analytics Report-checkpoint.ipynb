{
 "cells": [
  {
   "cell_type": "code",
   "execution_count": 1,
   "id": "5a30b707",
   "metadata": {},
   "outputs": [],
   "source": [
    "import pandas as pd\n",
    "import numpy as np\n",
    "import matplotlib.pyplot as plt\n",
    "import seaborn as sns\n",
    "import chart_studio.plotly as py\n",
    "import plotly.graph_objs as go \n",
    "from plotly.offline import download_plotlyjs, init_notebook_mode, plot, iplot\n",
    "init_notebook_mode(connected=True) \n",
    "\n",
    "sns.set_style('whitegrid')\n",
    "%matplotlib inline\n",
    "\n",
    "# load the messy data\n",
    "messy_ufodata = pd.read_csv('nuforc_reports.csv')\n",
    "\n",
    "# load the cleaned data\n",
    "ufodata = pd.read_csv('ufodata.csv', engine='python')"
   ]
  },
  {
   "cell_type": "markdown",
   "id": "8f7a3d52",
   "metadata": {},
   "source": [
    "#### This is what the original data looks like before the Data Cleaning process"
   ]
  },
  {
   "cell_type": "code",
   "execution_count": 5,
   "id": "0d0487b1",
   "metadata": {},
   "outputs": [
    {
     "name": "stdout",
     "output_type": "stream",
     "text": [
      "Missing value in %: \n"
     ]
    },
    {
     "data": {
      "text/plain": [
       "summary            0.07\n",
       "city               0.58\n",
       "state             12.95\n",
       "date_time          2.94\n",
       "shape              6.18\n",
       "duration           7.85\n",
       "stats              0.09\n",
       "report_link        0.00\n",
       "text               0.14\n",
       "posted             2.94\n",
       "city_latitude     39.87\n",
       "city_longitude    39.87\n",
       "dtype: float64"
      ]
     },
     "execution_count": 5,
     "metadata": {},
     "output_type": "execute_result"
    }
   ],
   "source": [
    "nulval = messy_ufodata.isnull().sum()\n",
    "print('Missing value in %: ')\n",
    "round((nulval/ufodata.shape[0])*100, 2)"
   ]
  },
  {
   "cell_type": "code",
   "execution_count": 4,
   "id": "4e0d6118",
   "metadata": {},
   "outputs": [
    {
     "data": {
      "text/plain": [
       "<AxesSubplot:>"
      ]
     },
     "execution_count": 4,
     "metadata": {},
     "output_type": "execute_result"
    },
    {
     "data": {
      "image/png": "[encoded data removed]",
      "text/plain": [
       "<Figure size 432x288 with 1 Axes>"
      ]
     },
     "metadata": {
      "needs_background": "light"
     },
     "output_type": "display_data"
    }
   ],
   "source": [
    "# plot missing values using heatmap to get an overall distribution\n",
    "sns.heatmap(messy_ufodata.isnull(), yticklabels=False, cbar=False, cmap='viridis')"
   ]
  },
  {
   "cell_type": "markdown",
   "id": "780bd815",
   "metadata": {},
   "source": [
    "#### After cleaning"
   ]
  },
  {
   "cell_type": "code",
   "execution_count": 6,
   "id": "18deaebb",
   "metadata": {},
   "outputs": [
    {
     "data": {
      "text/plain": [
       "<AxesSubplot:>"
      ]
     },
     "execution_count": 6,
     "metadata": {},
     "output_type": "execute_result"
    },
    {
     "data": {
      "image/png": "[encoded data removed]",
      "text/plain": [
       "<Figure size 432x288 with 1 Axes>"
      ]
     },
     "metadata": {
      "needs_background": "light"
     },
     "output_type": "display_data"
    }
   ],
   "source": [
    "sns.heatmap(ufodata.isnull(), yticklabels=False, cbar=False, cmap='viridis')"
   ]
  },
  {
   "cell_type": "code",
   "execution_count": 7,
   "id": "f43a9cff",
   "metadata": {},
   "outputs": [
    {
     "name": "stdout",
     "output_type": "stream",
     "text": [
      "<class 'pandas.core.frame.DataFrame'>\n",
      "RangeIndex: 40411 entries, 0 to 40410\n",
      "Data columns (total 10 columns):\n",
      " #   Column          Non-Null Count  Dtype  \n",
      "---  ------          --------------  -----  \n",
      " 0   datetime        40411 non-null  object \n",
      " 1   city            40411 non-null  object \n",
      " 2   state           40411 non-null  object \n",
      " 3   shape           40411 non-null  object \n",
      " 4   duration        40411 non-null  float64\n",
      " 5   city_latitude   40411 non-null  float64\n",
      " 6   city_longitude  40411 non-null  float64\n",
      " 7   Year            40411 non-null  int64  \n",
      " 8   Month           40411 non-null  int64  \n",
      " 9   country_code    40408 non-null  object \n",
      "dtypes: float64(3), int64(2), object(5)\n",
      "memory usage: 3.1+ MB\n"
     ]
    }
   ],
   "source": [
    "ufodata.info()"
   ]
  },
  {
   "cell_type": "code",
   "execution_count": 8,
   "id": "d10d59aa",
   "metadata": {},
   "outputs": [
    {
     "data": {
      "text/html": [
       "<div>\n",
       "<style scoped>\n",
       "    .dataframe tbody tr th:only-of-type {\n",
       "        vertical-align: middle;\n",
       "    }\n",
       "\n",
       "    .dataframe tbody tr th {\n",
       "        vertical-align: top;\n",
       "    }\n",
       "\n",
       "    .dataframe thead th {\n",
       "        text-align: right;\n",
       "    }\n",
       "</style>\n",
       "<table border=\"1\" class=\"dataframe\">\n",
       "  <thead>\n",
       "    <tr style=\"text-align: right;\">\n",
       "      <th></th>\n",
       "      <th>duration</th>\n",
       "      <th>city_latitude</th>\n",
       "      <th>city_longitude</th>\n",
       "      <th>Year</th>\n",
       "      <th>Month</th>\n",
       "    </tr>\n",
       "  </thead>\n",
       "  <tbody>\n",
       "    <tr>\n",
       "      <th>count</th>\n",
       "      <td>40411.000000</td>\n",
       "      <td>40411.000000</td>\n",
       "      <td>40411.000000</td>\n",
       "      <td>40411.000000</td>\n",
       "      <td>40411.000000</td>\n",
       "    </tr>\n",
       "    <tr>\n",
       "      <th>mean</th>\n",
       "      <td>844.176462</td>\n",
       "      <td>38.136057</td>\n",
       "      <td>-87.346788</td>\n",
       "      <td>2008.119175</td>\n",
       "      <td>6.798199</td>\n",
       "    </tr>\n",
       "    <tr>\n",
       "      <th>std</th>\n",
       "      <td>3360.736675</td>\n",
       "      <td>9.591759</td>\n",
       "      <td>36.299069</td>\n",
       "      <td>7.462333</td>\n",
       "      <td>3.073613</td>\n",
       "    </tr>\n",
       "    <tr>\n",
       "      <th>min</th>\n",
       "      <td>0.000000</td>\n",
       "      <td>-49.355681</td>\n",
       "      <td>-176.645751</td>\n",
       "      <td>1969.000000</td>\n",
       "      <td>1.000000</td>\n",
       "    </tr>\n",
       "    <tr>\n",
       "      <th>25%</th>\n",
       "      <td>30.000000</td>\n",
       "      <td>34.121671</td>\n",
       "      <td>-111.772797</td>\n",
       "      <td>2007.000000</td>\n",
       "      <td>4.000000</td>\n",
       "    </tr>\n",
       "    <tr>\n",
       "      <th>50%</th>\n",
       "      <td>180.000000</td>\n",
       "      <td>39.338600</td>\n",
       "      <td>-87.603400</td>\n",
       "      <td>2009.000000</td>\n",
       "      <td>7.000000</td>\n",
       "    </tr>\n",
       "    <tr>\n",
       "      <th>75%</th>\n",
       "      <td>600.000000</td>\n",
       "      <td>42.547664</td>\n",
       "      <td>-78.800602</td>\n",
       "      <td>2012.000000</td>\n",
       "      <td>9.000000</td>\n",
       "    </tr>\n",
       "    <tr>\n",
       "      <th>max</th>\n",
       "      <td>270000.000000</td>\n",
       "      <td>72.697674</td>\n",
       "      <td>176.994598</td>\n",
       "      <td>2019.000000</td>\n",
       "      <td>12.000000</td>\n",
       "    </tr>\n",
       "  </tbody>\n",
       "</table>\n",
       "</div>"
      ],
      "text/plain": [
       "            duration  city_latitude  city_longitude          Year  \\\n",
       "count   40411.000000   40411.000000    40411.000000  40411.000000   \n",
       "mean      844.176462      38.136057      -87.346788   2008.119175   \n",
       "std      3360.736675       9.591759       36.299069      7.462333   \n",
       "min         0.000000     -49.355681     -176.645751   1969.000000   \n",
       "25%        30.000000      34.121671     -111.772797   2007.000000   \n",
       "50%       180.000000      39.338600      -87.603400   2009.000000   \n",
       "75%       600.000000      42.547664      -78.800602   2012.000000   \n",
       "max    270000.000000      72.697674      176.994598   2019.000000   \n",
       "\n",
       "              Month  \n",
       "count  40411.000000  \n",
       "mean       6.798199  \n",
       "std        3.073613  \n",
       "min        1.000000  \n",
       "25%        4.000000  \n",
       "50%        7.000000  \n",
       "75%        9.000000  \n",
       "max       12.000000  "
      ]
     },
     "execution_count": 8,
     "metadata": {},
     "output_type": "execute_result"
    }
   ],
   "source": [
    "ufodata.describe()"
   ]
  },
  {
   "cell_type": "code",
   "execution_count": 9,
   "id": "69134291",
   "metadata": {},
   "outputs": [
    {
     "data": {
      "text/html": [
       "<div>\n",
       "<style scoped>\n",
       "    .dataframe tbody tr th:only-of-type {\n",
       "        vertical-align: middle;\n",
       "    }\n",
       "\n",
       "    .dataframe tbody tr th {\n",
       "        vertical-align: top;\n",
       "    }\n",
       "\n",
       "    .dataframe thead th {\n",
       "        text-align: right;\n",
       "    }\n",
       "</style>\n",
       "<table border=\"1\" class=\"dataframe\">\n",
       "  <thead>\n",
       "    <tr style=\"text-align: right;\">\n",
       "      <th></th>\n",
       "      <th>datetime</th>\n",
       "      <th>city</th>\n",
       "      <th>state</th>\n",
       "      <th>shape</th>\n",
       "      <th>duration</th>\n",
       "      <th>city_latitude</th>\n",
       "      <th>city_longitude</th>\n",
       "      <th>Year</th>\n",
       "      <th>Month</th>\n",
       "      <th>country_code</th>\n",
       "    </tr>\n",
       "  </thead>\n",
       "  <tbody>\n",
       "    <tr>\n",
       "      <th>0</th>\n",
       "      <td>1969-03-01 00:00:00</td>\n",
       "      <td>Omaha</td>\n",
       "      <td>NE</td>\n",
       "      <td>oval</td>\n",
       "      <td>1.0</td>\n",
       "      <td>41.254852</td>\n",
       "      <td>-96.064828</td>\n",
       "      <td>1969</td>\n",
       "      <td>3</td>\n",
       "      <td>US</td>\n",
       "    </tr>\n",
       "    <tr>\n",
       "      <th>1</th>\n",
       "      <td>1969-03-15 11:00:00</td>\n",
       "      <td>Oroville</td>\n",
       "      <td>WA</td>\n",
       "      <td>cross</td>\n",
       "      <td>120.0</td>\n",
       "      <td>48.879100</td>\n",
       "      <td>-119.224500</td>\n",
       "      <td>1969</td>\n",
       "      <td>3</td>\n",
       "      <td>US</td>\n",
       "    </tr>\n",
       "    <tr>\n",
       "      <th>2</th>\n",
       "      <td>1969-03-15 21:00:00</td>\n",
       "      <td>Little Axe</td>\n",
       "      <td>OK</td>\n",
       "      <td>rectangle</td>\n",
       "      <td>60.0</td>\n",
       "      <td>35.232570</td>\n",
       "      <td>-97.212528</td>\n",
       "      <td>1969</td>\n",
       "      <td>3</td>\n",
       "      <td>US</td>\n",
       "    </tr>\n",
       "    <tr>\n",
       "      <th>3</th>\n",
       "      <td>1969-04-01 07:00:00</td>\n",
       "      <td>Loganville</td>\n",
       "      <td>GA</td>\n",
       "      <td>rectangle</td>\n",
       "      <td>15.0</td>\n",
       "      <td>33.804200</td>\n",
       "      <td>-83.889300</td>\n",
       "      <td>1969</td>\n",
       "      <td>4</td>\n",
       "      <td>US</td>\n",
       "    </tr>\n",
       "    <tr>\n",
       "      <th>4</th>\n",
       "      <td>1969-05-15 14:00:00</td>\n",
       "      <td>St Louis</td>\n",
       "      <td>MO</td>\n",
       "      <td>rectangle</td>\n",
       "      <td>120.0</td>\n",
       "      <td>38.623825</td>\n",
       "      <td>-90.308528</td>\n",
       "      <td>1969</td>\n",
       "      <td>5</td>\n",
       "      <td>US</td>\n",
       "    </tr>\n",
       "  </tbody>\n",
       "</table>\n",
       "</div>"
      ],
      "text/plain": [
       "              datetime        city state      shape  duration  city_latitude  \\\n",
       "0  1969-03-01 00:00:00       Omaha    NE       oval       1.0      41.254852   \n",
       "1  1969-03-15 11:00:00    Oroville    WA      cross     120.0      48.879100   \n",
       "2  1969-03-15 21:00:00  Little Axe    OK  rectangle      60.0      35.232570   \n",
       "3  1969-04-01 07:00:00  Loganville    GA  rectangle      15.0      33.804200   \n",
       "4  1969-05-15 14:00:00    St Louis    MO  rectangle     120.0      38.623825   \n",
       "\n",
       "   city_longitude  Year  Month country_code  \n",
       "0      -96.064828  1969      3           US  \n",
       "1     -119.224500  1969      3           US  \n",
       "2      -97.212528  1969      3           US  \n",
       "3      -83.889300  1969      4           US  \n",
       "4      -90.308528  1969      5           US  "
      ]
     },
     "execution_count": 9,
     "metadata": {},
     "output_type": "execute_result"
    }
   ],
   "source": [
    "ufodata.head()"
   ]
  },
  {
   "cell_type": "markdown",
   "id": "4a2c3bf6",
   "metadata": {},
   "source": [
    "# Data Analysis"
   ]
  },
  {
   "cell_type": "markdown",
   "id": "20d489fc",
   "metadata": {},
   "source": [
    "### Questions to explore:\n",
    "\\begin{enumerate}\n",
    "\\item What are the times and seasons that have the most frequent ufo sightings and why?\n",
    "\\item Why are the incidents more frequent in some regions?\n",
    "\\item What are some potential drivers for the incidents?\n",
    "\\end{enumerate}"
   ]
  },
  {
   "cell_type": "code",
   "execution_count": 18,
   "id": "b1eaca93",
   "metadata": {
    "scrolled": false
   },
   "outputs": [
    {
     "data": {
      "image/png": "[encoded data removed]",
      "text/plain": [
       "<Figure size 1080x360 with 1 Axes>"
      ]
     },
     "metadata": {
      "needs_background": "light"
     },
     "output_type": "display_data"
    }
   ],
   "source": [
    "plt.figure(figsize=(15,5))\n",
    "yearplot = sns.countplot(x=ufodata['Year'])\n",
    "yearplot.set(title='Number of UFO Sightings per Year')\n",
    "yearplot.set_xticklabels(yearplot.get_xticklabels(), \n",
    "                         rotation=45,\n",
    "                         fontweight='light',\n",
    "                         fontsize='x-large')\n",
    "None"
   ]
  },
  {
   "cell_type": "code",
   "execution_count": 14,
   "id": "e1a188b6",
   "metadata": {
    "scrolled": true
   },
   "outputs": [
    {
     "name": "stdout",
     "output_type": "stream",
     "text": [
      "Top 10 years that have most ufo sightings:\n"
     ]
    },
    {
     "data": {
      "text/plain": [
       "2012    6476\n",
       "2011    4885\n",
       "2008    4634\n",
       "2009    4355\n",
       "2007    4099\n",
       "2010    4064\n",
       "2006    3153\n",
       "2013    2236\n",
       "2019    2038\n",
       "2005     425\n",
       "Name: Year, dtype: int64"
      ]
     },
     "execution_count": 14,
     "metadata": {},
     "output_type": "execute_result"
    }
   ],
   "source": [
    "print('Top 10 years that have most ufo sightings:')\n",
    "ufodata['Year'].value_counts()[:10]"
   ]
  },
  {
   "cell_type": "markdown",
   "id": "5e79ef60",
   "metadata": {},
   "source": [
    "UFO sightings are at peak times from 2005 to 2013, and the total number of sightings goes above 2000 cases. Maybe during those times, social medias, movies, and cartoons about UFOs are rising and people get very interested to them, and then the decline starts from 2014 [1], maybe people start to see UFO as a normal thing and not as interesting as before."
   ]
  },
  {
   "cell_type": "code",
   "execution_count": 17,
   "id": "97bd50d0",
   "metadata": {},
   "outputs": [
    {
     "data": {
      "image/png": "[encoded data removed]",
      "text/plain": [
       "<Figure size 432x288 with 1 Axes>"
      ]
     },
     "metadata": {
      "needs_background": "light"
     },
     "output_type": "display_data"
    }
   ],
   "source": [
    "sns.countplot(x=ufodata['Month']).set(title='Number of UFO Sightings per Month')\n",
    "None"
   ]
  },
  {
   "cell_type": "code",
   "execution_count": 20,
   "id": "7d387601",
   "metadata": {},
   "outputs": [
    {
     "data": {
      "image/png": "[encoded data removed]",
      "text/plain": [
       "<Figure size 1080x360 with 1 Axes>"
      ]
     },
     "metadata": {
      "needs_background": "light"
     },
     "output_type": "display_data"
    }
   ],
   "source": [
    "plt.figure(figsize=(15,5))\n",
    "sns.countplot(x=ufodata['Month'], \n",
    "              hue=ufodata['shape']).set(title='Number of UFO Sightings per Month with Shape')\n",
    "plt.legend(bbox_to_anchor=(1.05, 1), loc=2, borderaxespad=0.)\n",
    "None"
   ]
  },
  {
   "cell_type": "markdown",
   "id": "fd5fbade",
   "metadata": {},
   "source": [
    "Peak months of ufo sightings is from June to August which correspond to summer times, maybe during summer times people are more active and so more chances of spoting a UFO. And the most popular shape of ufo is light shaped, that make senses because most of the times when ufo appearing, it always comes with light."
   ]
  },
  {
   "cell_type": "code",
   "execution_count": 22,
   "id": "54f7d44b",
   "metadata": {
    "scrolled": true
   },
   "outputs": [
    {
     "data": {
      "image/png": "[encoded data removed]",
      "text/plain": [
       "<Figure size 432x288 with 1 Axes>"
      ]
     },
     "metadata": {
      "needs_background": "light"
     },
     "output_type": "display_data"
    }
   ],
   "source": [
    "sns.countplot(x=ufodata['shape']).set(title='Occurrences of Each Shape')\n",
    "None"
   ]
  },
  {
   "cell_type": "code",
   "execution_count": 38,
   "id": "870e66c7",
   "metadata": {
    "scrolled": false
   },
   "outputs": [
    {
     "data": {
      "image/png": "[encoded data removed]",
      "text/plain": [
       "<Figure size 360x360 with 1 Axes>"
      ]
     },
     "metadata": {
      "needs_background": "light"
     },
     "output_type": "display_data"
    }
   ],
   "source": [
    "byYear = ufodata.groupby(ufodata['Year']).count().reset_index()\n",
    "linfit = sns.lmplot(x='Year', y='city', data=byYear)\n",
    "linfit.set(title='Linear Fit of Number of Total Sightings vs. Year', ylabel='count')\n",
    "None"
   ]
  },
  {
   "cell_type": "markdown",
   "id": "58ab01f3",
   "metadata": {},
   "source": [
    "For decades since 1970, the number of ufo sightings remain fairly constant upto about year 2005. According to the linear line fit, a possible prediction for 2020 would be around 2000 to 3000 sightings. An anomaly occurs at year 2012, this can also be seen from the previous countplot where the number of ufo sightings hits above 6000 in year 2012."
   ]
  },
  {
   "cell_type": "code",
   "execution_count": 40,
   "id": "a2e43cbb",
   "metadata": {},
   "outputs": [
    {
     "data": {
      "image/png": "[encoded data removed]",
      "text/plain": [
       "<Figure size 360x360 with 1 Axes>"
      ]
     },
     "metadata": {
      "needs_background": "light"
     },
     "output_type": "display_data"
    }
   ],
   "source": [
    "byYear['Avg(/mon)'] = byYear['city'].div(12).round()\n",
    "linfitavg = sns.lmplot(x='Year', y='Avg(/mon)', data=byYear)\n",
    "linfitavg.set(title='Average Number of Sightings per Month in Each Year', \n",
    "              ylabel='monthly average sightings')\n",
    "None"
   ]
  },
  {
   "cell_type": "code",
   "execution_count": 41,
   "id": "e95746f0",
   "metadata": {},
   "outputs": [
    {
     "data": {
      "image/png": "[encoded data removed]",
      "text/plain": [
       "<Figure size 540x540 with 12 Axes>"
      ]
     },
     "metadata": {
      "needs_background": "light"
     },
     "output_type": "display_data"
    }
   ],
   "source": [
    "# Check for correlations between Year, Month, and count\n",
    "byYM = ufodata.groupby(['Year', 'Month']).count().reset_index()\n",
    "byYM['count'] = byYM['city']\n",
    "sns.pairplot(byYM[['Year', 'Month', 'count']])\n",
    "None"
   ]
  },
  {
   "cell_type": "markdown",
   "id": "f7fb73ef",
   "metadata": {},
   "source": [
    "It doesn't look like there is any strong correlation between {year and count} and {month and count}."
   ]
  },
  {
   "cell_type": "markdown",
   "id": "4a092e1a",
   "metadata": {},
   "source": [
    "## Geographical Distribution"
   ]
  },
  {
   "cell_type": "code",
   "execution_count": 71,
   "id": "d2113db6",
   "metadata": {},
   "outputs": [
    {
     "data": {
      "text/plain": [
       "US    36360\n",
       "CA     1566\n",
       "GB     1064\n",
       "Name: country_code, dtype: int64"
      ]
     },
     "execution_count": 71,
     "metadata": {},
     "output_type": "execute_result"
    }
   ],
   "source": [
    "ufodata['country_code'].value_counts()[:3]"
   ]
  },
  {
   "cell_type": "markdown",
   "id": "ffa04428",
   "metadata": {},
   "source": [
    "Top 3 countries have the most frequent ufo sightings:\n",
    "* US = United States \n",
    "* CA = Canada\n",
    "* GB = United Kingdom\n",
    "\n",
    "From the joint plot below, most popular regions are clustered around United States and United Kingdom, the reason might be that these 2 countries are the ones who have the highest number of advanced military and nuclear technologies in the world."
   ]
  },
  {
   "cell_type": "code",
   "execution_count": 36,
   "id": "7b67d102",
   "metadata": {},
   "outputs": [
    {
     "data": {
      "image/png": "[encoded data removed]",
      "text/plain": [
       "<Figure size 576x576 with 3 Axes>"
      ]
     },
     "metadata": {
      "needs_background": "light"
     },
     "output_type": "display_data"
    }
   ],
   "source": [
    "def get_us_ca_gb(col):\n",
    "    '''\n",
    "    return:\n",
    "    US = United States\n",
    "    CA = Canada\n",
    "    GB = United Kingdom\n",
    "    not US, CA, or GB = other\n",
    "    '''\n",
    "    \n",
    "    if col[0] == 'US':\n",
    "        return 'US'\n",
    "    elif col[0] == 'CA':\n",
    "        return 'CA'\n",
    "    elif col[0] == 'GB':\n",
    "        return 'GB'\n",
    "    else:\n",
    "        return 'other'\n",
    "    \n",
    "ufodata['us_ca_gb'] = ufodata[['country_code']].apply(get_us_ca_gb, axis=1)\n",
    "\n",
    "# joint plot using latitude and longitude\n",
    "sns.jointplot(x='city_latitude',\n",
    "              y='city_longitude',\n",
    "              hue='us_ca_gb',\n",
    "              height=8,\n",
    "              ratio=6,\n",
    "              data=ufodata).fig.suptitle(\"Global Distribution of UFO Incidents\")\n",
    "None"
   ]
  },
  {
   "cell_type": "code",
   "execution_count": 59,
   "id": "31f2fdaf",
   "metadata": {},
   "outputs": [
    {
     "data": {
      "application/vnd.plotly.v1+json": {
       "config": {
        "linkText": "Export to plot.ly",
        "plotlyServerURL": "https://plot.ly",
        "showLink": false
       },
       "data": [
        {
         "colorbar": {
          "title": {
           "text": "Global Number of UFO  sightings"
          }
         },
         "locationmode": "country names",
         "locations": [
          "United Arab Emirates",
          "Afghanistan",
          "Antigua and Barbuda",
          "Albania",
          "Argentina",
          "Austria",
          "Australia",
          "Azerbaijan",
          "Bosnia and Herzegovina",
          "Belgium",
          "Bulgaria",
          "Benin",
          "Bolivia, Plurinational State of",
          "Brazil",
          "Bahamas",
          "Canada",
          "Switzerland",
          "Chile",
          "China",
          "Colombia",
          "Costa Rica",
          "Cuba",
          "Cyprus",
          "Czechia",
          "Germany",
          "Denmark",
          "Algeria",
          "Ecuador",
          "Estonia",
          "Egypt",
          "Spain",
          "Ethiopia",
          "Finland",
          "Faroe Islands",
          "France",
          "United Kingdom",
          "Grenada",
          "Georgia",
          "Greece",
          "Honduras",
          "Hungary",
          "Indonesia",
          "Ireland",
          "Israel",
          "Isle of Man",
          "India",
          "Iraq",
          "Iran, Islamic Republic of",
          "Iceland",
          "Italy",
          "Jamaica",
          "Jordan",
          "Japan",
          "Kenya",
          "Cambodia",
          "Saint Kitts and Nevis",
          "Korea, Democratic People's Republic of",
          "Korea, Republic of",
          "Kuwait",
          "Lebanon",
          "Sri Lanka",
          "Lithuania",
          "Luxembourg",
          "Latvia",
          "Morocco",
          "Moldova, Republic of",
          "North Macedonia",
          "Myanmar",
          "Malta",
          "Mexico",
          "Malaysia",
          "Netherlands",
          "Norway",
          "New Zealand",
          "Panama",
          "Peru",
          "Philippines",
          "Pakistan",
          "Poland",
          "Portugal",
          "Palau",
          "Qatar",
          "Romania",
          "Serbia",
          "Russian Federation",
          "Saudi Arabia",
          "Seychelles",
          "Sweden",
          "Singapore",
          "Slovenia",
          "South Sudan",
          "El Salvador",
          "Syrian Arab Republic",
          "Thailand",
          "Tunisia",
          "Turkey",
          "Trinidad and Tobago",
          "Taiwan, Province of China",
          "Tanzania, United Republic of",
          "Ukraine",
          "United States",
          "Venezuela, Bolivarian Republic of",
          "Virgin Islands, British",
          "Viet Nam",
          "South Africa",
          "Zambia",
          "Zimbabwe"
         ],
         "reversescale": true,
         "text": [
          "United Arab Emirates",
          "Afghanistan",
          "Antigua and Barbuda",
          "Albania",
          "Argentina",
          "Austria",
          "Australia",
          "Azerbaijan",
          "Bosnia and Herzegovina",
          "Belgium",
          "Bulgaria",
          "Benin",
          "Bolivia, Plurinational State of",
          "Brazil",
          "Bahamas",
          "Canada",
          "Switzerland",
          "Chile",
          "China",
          "Colombia",
          "Costa Rica",
          "Cuba",
          "Cyprus",
          "Czechia",
          "Germany",
          "Denmark",
          "Algeria",
          "Ecuador",
          "Estonia",
          "Egypt",
          "Spain",
          "Ethiopia",
          "Finland",
          "Faroe Islands",
          "France",
          "United Kingdom",
          "Grenada",
          "Georgia",
          "Greece",
          "Honduras",
          "Hungary",
          "Indonesia",
          "Ireland",
          "Israel",
          "Isle of Man",
          "India",
          "Iraq",
          "Iran, Islamic Republic of",
          "Iceland",
          "Italy",
          "Jamaica",
          "Jordan",
          "Japan",
          "Kenya",
          "Cambodia",
          "Saint Kitts and Nevis",
          "Korea, Democratic People's Republic of",
          "Korea, Republic of",
          "Kuwait",
          "Lebanon",
          "Sri Lanka",
          "Lithuania",
          "Luxembourg",
          "Latvia",
          "Morocco",
          "Moldova, Republic of",
          "North Macedonia",
          "Myanmar",
          "Malta",
          "Mexico",
          "Malaysia",
          "Netherlands",
          "Norway",
          "New Zealand",
          "Panama",
          "Peru",
          "Philippines",
          "Pakistan",
          "Poland",
          "Portugal",
          "Palau",
          "Qatar",
          "Romania",
          "Serbia",
          "Russian Federation",
          "Saudi Arabia",
          "Seychelles",
          "Sweden",
          "Singapore",
          "Slovenia",
          "South Sudan",
          "El Salvador",
          "Syrian Arab Republic",
          "Thailand",
          "Tunisia",
          "Turkey",
          "Trinidad and Tobago",
          "Taiwan, Province of China",
          "Tanzania, United Republic of",
          "Ukraine",
          "United States",
          "Venezuela, Bolivarian Republic of",
          "Virgin Islands, British",
          "Viet Nam",
          "South Africa",
          "Zambia",
          "Zimbabwe"
         ],
         "type": "choropleth",
         "z": [
          2,
          4,
          1,
          2,
          13,
          6,
          211,
          2,
          4,
          12,
          8,
          1,
          2,
          41,
          3,
          1566,
          12,
          7,
          24,
          24,
          11,
          5,
          1,
          5,
          73,
          1,
          3,
          7,
          11,
          4,
          37,
          3,
          7,
          1,
          52,
          1064,
          1,
          1,
          17,
          3,
          7,
          6,
          33,
          14,
          1,
          122,
          13,
          14,
          6,
          25,
          9,
          3,
          22,
          1,
          1,
          1,
          1,
          9,
          1,
          2,
          5,
          4,
          3,
          1,
          4,
          1,
          2,
          3,
          3,
          101,
          17,
          11,
          17,
          46,
          3,
          8,
          32,
          15,
          10,
          21,
          1,
          1,
          16,
          10,
          9,
          5,
          1,
          14,
          2,
          3,
          1,
          2,
          2,
          5,
          1,
          16,
          5,
          1,
          1,
          7,
          36360,
          12,
          1,
          8,
          69,
          2,
          3
         ]
        }
       ],
       "layout": {
        "geo": {
         "projection": {
          "type": "mercator"
         },
         "showframe": false
        },
        "template": {
         "data": {
          "bar": [
           {
            "error_x": {
             "color": "#2a3f5f"
            },
            "error_y": {
             "color": "#2a3f5f"
            },
            "marker": {
             "line": {
              "color": "#E5ECF6",
              "width": 0.5
             }
            },
            "type": "bar"
           }
          ],
          "barpolar": [
           {
            "marker": {
             "line": {
              "color": "#E5ECF6",
              "width": 0.5
             }
            },
            "type": "barpolar"
           }
          ],
          "carpet": [
           {
            "aaxis": {
             "endlinecolor": "#2a3f5f",
             "gridcolor": "white",
             "linecolor": "white",
             "minorgridcolor": "white",
             "startlinecolor": "#2a3f5f"
            },
            "baxis": {
             "endlinecolor": "#2a3f5f",
             "gridcolor": "white",
             "linecolor": "white",
             "minorgridcolor": "white",
             "startlinecolor": "#2a3f5f"
            },
            "type": "carpet"
           }
          ],
          "choropleth": [
           {
            "colorbar": {
             "outlinewidth": 0,
             "ticks": ""
            },
            "type": "choropleth"
           }
          ],
          "contour": [
           {
            "colorbar": {
             "outlinewidth": 0,
             "ticks": ""
            },
            "colorscale": [
             [
              0,
              "#0d0887"
             ],
             [
              0.1111111111111111,
              "#46039f"
             ],
             [
              0.2222222222222222,
              "#7201a8"
             ],
             [
              0.3333333333333333,
              "#9c179e"
             ],
             [
              0.4444444444444444,
              "#bd3786"
             ],
             [
              0.5555555555555556,
              "#d8576b"
             ],
             [
              0.6666666666666666,
              "#ed7953"
             ],
             [
              0.7777777777777778,
              "#fb9f3a"
             ],
             [
              0.8888888888888888,
              "#fdca26"
             ],
             [
              1,
              "#f0f921"
             ]
            ],
            "type": "contour"
           }
          ],
          "contourcarpet": [
           {
            "colorbar": {
             "outlinewidth": 0,
             "ticks": ""
            },
            "type": "contourcarpet"
           }
          ],
          "heatmap": [
           {
            "colorbar": {
             "outlinewidth": 0,
             "ticks": ""
            },
            "colorscale": [
             [
              0,
              "#0d0887"
             ],
             [
              0.1111111111111111,
              "#46039f"
             ],
             [
              0.2222222222222222,
              "#7201a8"
             ],
             [
              0.3333333333333333,
              "#9c179e"
             ],
             [
              0.4444444444444444,
              "#bd3786"
             ],
             [
              0.5555555555555556,
              "#d8576b"
             ],
             [
              0.6666666666666666,
              "#ed7953"
             ],
             [
              0.7777777777777778,
              "#fb9f3a"
             ],
             [
              0.8888888888888888,
              "#fdca26"
             ],
             [
              1,
              "#f0f921"
             ]
            ],
            "type": "heatmap"
           }
          ],
          "heatmapgl": [
           {
            "colorbar": {
             "outlinewidth": 0,
             "ticks": ""
            },
            "colorscale": [
             [
              0,
              "#0d0887"
             ],
             [
              0.1111111111111111,
              "#46039f"
             ],
             [
              0.2222222222222222,
              "#7201a8"
             ],
             [
              0.3333333333333333,
              "#9c179e"
             ],
             [
              0.4444444444444444,
              "#bd3786"
             ],
             [
              0.5555555555555556,
              "#d8576b"
             ],
             [
              0.6666666666666666,
              "#ed7953"
             ],
             [
              0.7777777777777778,
              "#fb9f3a"
             ],
             [
              0.8888888888888888,
              "#fdca26"
             ],
             [
              1,
              "#f0f921"
             ]
            ],
            "type": "heatmapgl"
           }
          ],
          "histogram": [
           {
            "marker": {
             "colorbar": {
              "outlinewidth": 0,
              "ticks": ""
             }
            },
            "type": "histogram"
           }
          ],
          "histogram2d": [
           {
            "colorbar": {
             "outlinewidth": 0,
             "ticks": ""
            },
            "colorscale": [
             [
              0,
              "#0d0887"
             ],
             [
              0.1111111111111111,
              "#46039f"
             ],
             [
              0.2222222222222222,
              "#7201a8"
             ],
             [
              0.3333333333333333,
              "#9c179e"
             ],
             [
              0.4444444444444444,
              "#bd3786"
             ],
             [
              0.5555555555555556,
              "#d8576b"
             ],
             [
              0.6666666666666666,
              "#ed7953"
             ],
             [
              0.7777777777777778,
              "#fb9f3a"
             ],
             [
              0.8888888888888888,
              "#fdca26"
             ],
             [
              1,
              "#f0f921"
             ]
            ],
            "type": "histogram2d"
           }
          ],
          "histogram2dcontour": [
           {
            "colorbar": {
             "outlinewidth": 0,
             "ticks": ""
            },
            "colorscale": [
             [
              0,
              "#0d0887"
             ],
             [
              0.1111111111111111,
              "#46039f"
             ],
             [
              0.2222222222222222,
              "#7201a8"
             ],
             [
              0.3333333333333333,
              "#9c179e"
             ],
             [
              0.4444444444444444,
              "#bd3786"
             ],
             [
              0.5555555555555556,
              "#d8576b"
             ],
             [
              0.6666666666666666,
              "#ed7953"
             ],
             [
              0.7777777777777778,
              "#fb9f3a"
             ],
             [
              0.8888888888888888,
              "#fdca26"
             ],
             [
              1,
              "#f0f921"
             ]
            ],
            "type": "histogram2dcontour"
           }
          ],
          "mesh3d": [
           {
            "colorbar": {
             "outlinewidth": 0,
             "ticks": ""
            },
            "type": "mesh3d"
           }
          ],
          "parcoords": [
           {
            "line": {
             "colorbar": {
              "outlinewidth": 0,
              "ticks": ""
             }
            },
            "type": "parcoords"
           }
          ],
          "pie": [
           {
            "automargin": true,
            "type": "pie"
           }
          ],
          "scatter": [
           {
            "marker": {
             "colorbar": {
              "outlinewidth": 0,
              "ticks": ""
             }
            },
            "type": "scatter"
           }
          ],
          "scatter3d": [
           {
            "line": {
             "colorbar": {
              "outlinewidth": 0,
              "ticks": ""
             }
            },
            "marker": {
             "colorbar": {
              "outlinewidth": 0,
              "ticks": ""
             }
            },
            "type": "scatter3d"
           }
          ],
          "scattercarpet": [
           {
            "marker": {
             "colorbar": {
              "outlinewidth": 0,
              "ticks": ""
             }
            },
            "type": "scattercarpet"
           }
          ],
          "scattergeo": [
           {
            "marker": {
             "colorbar": {
              "outlinewidth": 0,
              "ticks": ""
             }
            },
            "type": "scattergeo"
           }
          ],
          "scattergl": [
           {
            "marker": {
             "colorbar": {
              "outlinewidth": 0,
              "ticks": ""
             }
            },
            "type": "scattergl"
           }
          ],
          "scattermapbox": [
           {
            "marker": {
             "colorbar": {
              "outlinewidth": 0,
              "ticks": ""
             }
            },
            "type": "scattermapbox"
           }
          ],
          "scatterpolar": [
           {
            "marker": {
             "colorbar": {
              "outlinewidth": 0,
              "ticks": ""
             }
            },
            "type": "scatterpolar"
           }
          ],
          "scatterpolargl": [
           {
            "marker": {
             "colorbar": {
              "outlinewidth": 0,
              "ticks": ""
             }
            },
            "type": "scatterpolargl"
           }
          ],
          "scatterternary": [
           {
            "marker": {
             "colorbar": {
              "outlinewidth": 0,
              "ticks": ""
             }
            },
            "type": "scatterternary"
           }
          ],
          "surface": [
           {
            "colorbar": {
             "outlinewidth": 0,
             "ticks": ""
            },
            "colorscale": [
             [
              0,
              "#0d0887"
             ],
             [
              0.1111111111111111,
              "#46039f"
             ],
             [
              0.2222222222222222,
              "#7201a8"
             ],
             [
              0.3333333333333333,
              "#9c179e"
             ],
             [
              0.4444444444444444,
              "#bd3786"
             ],
             [
              0.5555555555555556,
              "#d8576b"
             ],
             [
              0.6666666666666666,
              "#ed7953"
             ],
             [
              0.7777777777777778,
              "#fb9f3a"
             ],
             [
              0.8888888888888888,
              "#fdca26"
             ],
             [
              1,
              "#f0f921"
             ]
            ],
            "type": "surface"
           }
          ],
          "table": [
           {
            "cells": {
             "fill": {
              "color": "#EBF0F8"
             },
             "line": {
              "color": "white"
             }
            },
            "header": {
             "fill": {
              "color": "#C8D4E3"
             },
             "line": {
              "color": "white"
             }
            },
            "type": "table"
           }
          ]
         },
         "layout": {
          "annotationdefaults": {
           "arrowcolor": "#2a3f5f",
           "arrowhead": 0,
           "arrowwidth": 1
          },
          "autotypenumbers": "strict",
          "coloraxis": {
           "colorbar": {
            "outlinewidth": 0,
            "ticks": ""
           }
          },
          "colorscale": {
           "diverging": [
            [
             0,
             "#8e0152"
            ],
            [
             0.1,
             "#c51b7d"
            ],
            [
             0.2,
             "#de77ae"
            ],
            [
             0.3,
             "#f1b6da"
            ],
            [
             0.4,
             "#fde0ef"
            ],
            [
             0.5,
             "#f7f7f7"
            ],
            [
             0.6,
             "#e6f5d0"
            ],
            [
             0.7,
             "#b8e186"
            ],
            [
             0.8,
             "#7fbc41"
            ],
            [
             0.9,
             "#4d9221"
            ],
            [
             1,
             "#276419"
            ]
           ],
           "sequential": [
            [
             0,
             "#0d0887"
            ],
            [
             0.1111111111111111,
             "#46039f"
            ],
            [
             0.2222222222222222,
             "#7201a8"
            ],
            [
             0.3333333333333333,
             "#9c179e"
            ],
            [
             0.4444444444444444,
             "#bd3786"
            ],
            [
             0.5555555555555556,
             "#d8576b"
            ],
            [
             0.6666666666666666,
             "#ed7953"
            ],
            [
             0.7777777777777778,
             "#fb9f3a"
            ],
            [
             0.8888888888888888,
             "#fdca26"
            ],
            [
             1,
             "#f0f921"
            ]
           ],
           "sequentialminus": [
            [
             0,
             "#0d0887"
            ],
            [
             0.1111111111111111,
             "#46039f"
            ],
            [
             0.2222222222222222,
             "#7201a8"
            ],
            [
             0.3333333333333333,
             "#9c179e"
            ],
            [
             0.4444444444444444,
             "#bd3786"
            ],
            [
             0.5555555555555556,
             "#d8576b"
            ],
            [
             0.6666666666666666,
             "#ed7953"
            ],
            [
             0.7777777777777778,
             "#fb9f3a"
            ],
            [
             0.8888888888888888,
             "#fdca26"
            ],
            [
             1,
             "#f0f921"
            ]
           ]
          },
          "colorway": [
           "#636efa",
           "#EF553B",
           "#00cc96",
           "#ab63fa",
           "#FFA15A",
           "#19d3f3",
           "#FF6692",
           "#B6E880",
           "#FF97FF",
           "#FECB52"
          ],
          "font": {
           "color": "#2a3f5f"
          },
          "geo": {
           "bgcolor": "white",
           "lakecolor": "white",
           "landcolor": "#E5ECF6",
           "showlakes": true,
           "showland": true,
           "subunitcolor": "white"
          },
          "hoverlabel": {
           "align": "left"
          },
          "hovermode": "closest",
          "mapbox": {
           "style": "light"
          },
          "paper_bgcolor": "white",
          "plot_bgcolor": "#E5ECF6",
          "polar": {
           "angularaxis": {
            "gridcolor": "white",
            "linecolor": "white",
            "ticks": ""
           },
           "bgcolor": "#E5ECF6",
           "radialaxis": {
            "gridcolor": "white",
            "linecolor": "white",
            "ticks": ""
           }
          },
          "scene": {
           "xaxis": {
            "backgroundcolor": "#E5ECF6",
            "gridcolor": "white",
            "gridwidth": 2,
            "linecolor": "white",
            "showbackground": true,
            "ticks": "",
            "zerolinecolor": "white"
           },
           "yaxis": {
            "backgroundcolor": "#E5ECF6",
            "gridcolor": "white",
            "gridwidth": 2,
            "linecolor": "white",
            "showbackground": true,
            "ticks": "",
            "zerolinecolor": "white"
           },
           "zaxis": {
            "backgroundcolor": "#E5ECF6",
            "gridcolor": "white",
            "gridwidth": 2,
            "linecolor": "white",
            "showbackground": true,
            "ticks": "",
            "zerolinecolor": "white"
           }
          },
          "shapedefaults": {
           "line": {
            "color": "#2a3f5f"
           }
          },
          "ternary": {
           "aaxis": {
            "gridcolor": "white",
            "linecolor": "white",
            "ticks": ""
           },
           "baxis": {
            "gridcolor": "white",
            "linecolor": "white",
            "ticks": ""
           },
           "bgcolor": "#E5ECF6",
           "caxis": {
            "gridcolor": "white",
            "linecolor": "white",
            "ticks": ""
           }
          },
          "title": {
           "x": 0.05
          },
          "xaxis": {
           "automargin": true,
           "gridcolor": "white",
           "linecolor": "white",
           "ticks": "",
           "title": {
            "standoff": 15
           },
           "zerolinecolor": "white",
           "zerolinewidth": 2
          },
          "yaxis": {
           "automargin": true,
           "gridcolor": "white",
           "linecolor": "white",
           "ticks": "",
           "title": {
            "standoff": 15
           },
           "zerolinecolor": "white",
           "zerolinewidth": 2
          }
         }
        },
        "title": {
         "text": "Global UFO Incidents"
        }
       }
      },
      "text/html": [
       "<div>                            <div id=\"4625bdf8-33ca-4840-9247-d0841f8f84d2\" class=\"plotly-graph-div\" style=\"height:525px; width:100%;\"></div>            <script type=\"text/javascript\">                require([\"plotly\"], function(Plotly) {                    window.PLOTLYENV=window.PLOTLYENV || {};                                    if (document.getElementById(\"4625bdf8-33ca-4840-9247-d0841f8f84d2\")) {                    Plotly.newPlot(                        \"4625bdf8-33ca-4840-9247-d0841f8f84d2\",                        [{\"colorbar\": {\"title\": {\"text\": \"Global Number of UFO  sightings\"}}, \"locationmode\": \"country names\", \"locations\": [\"United Arab Emirates\", \"Afghanistan\", \"Antigua and Barbuda\", \"Albania\", \"Argentina\", \"Austria\", \"Australia\", \"Azerbaijan\", \"Bosnia and Herzegovina\", \"Belgium\", \"Bulgaria\", \"Benin\", \"Bolivia, Plurinational State of\", \"Brazil\", \"Bahamas\", \"Canada\", \"Switzerland\", \"Chile\", \"China\", \"Colombia\", \"Costa Rica\", \"Cuba\", \"Cyprus\", \"Czechia\", \"Germany\", \"Denmark\", \"Algeria\", \"Ecuador\", \"Estonia\", \"Egypt\", \"Spain\", \"Ethiopia\", \"Finland\", \"Faroe Islands\", \"France\", \"United Kingdom\", \"Grenada\", \"Georgia\", \"Greece\", \"Honduras\", \"Hungary\", \"Indonesia\", \"Ireland\", \"Israel\", \"Isle of Man\", \"India\", \"Iraq\", \"Iran, Islamic Republic of\", \"Iceland\", \"Italy\", \"Jamaica\", \"Jordan\", \"Japan\", \"Kenya\", \"Cambodia\", \"Saint Kitts and Nevis\", \"Korea, Democratic People's Republic of\", \"Korea, Republic of\", \"Kuwait\", \"Lebanon\", \"Sri Lanka\", \"Lithuania\", \"Luxembourg\", \"Latvia\", \"Morocco\", \"Moldova, Republic of\", \"North Macedonia\", \"Myanmar\", \"Malta\", \"Mexico\", \"Malaysia\", \"Netherlands\", \"Norway\", \"New Zealand\", \"Panama\", \"Peru\", \"Philippines\", \"Pakistan\", \"Poland\", \"Portugal\", \"Palau\", \"Qatar\", \"Romania\", \"Serbia\", \"Russian Federation\", \"Saudi Arabia\", \"Seychelles\", \"Sweden\", \"Singapore\", \"Slovenia\", \"South Sudan\", \"El Salvador\", \"Syrian Arab Republic\", \"Thailand\", \"Tunisia\", \"Turkey\", \"Trinidad and Tobago\", \"Taiwan, Province of China\", \"Tanzania, United Republic of\", \"Ukraine\", \"United States\", \"Venezuela, Bolivarian Republic of\", \"Virgin Islands, British\", \"Viet Nam\", \"South Africa\", \"Zambia\", \"Zimbabwe\"], \"reversescale\": true, \"text\": [\"United Arab Emirates\", \"Afghanistan\", \"Antigua and Barbuda\", \"Albania\", \"Argentina\", \"Austria\", \"Australia\", \"Azerbaijan\", \"Bosnia and Herzegovina\", \"Belgium\", \"Bulgaria\", \"Benin\", \"Bolivia, Plurinational State of\", \"Brazil\", \"Bahamas\", \"Canada\", \"Switzerland\", \"Chile\", \"China\", \"Colombia\", \"Costa Rica\", \"Cuba\", \"Cyprus\", \"Czechia\", \"Germany\", \"Denmark\", \"Algeria\", \"Ecuador\", \"Estonia\", \"Egypt\", \"Spain\", \"Ethiopia\", \"Finland\", \"Faroe Islands\", \"France\", \"United Kingdom\", \"Grenada\", \"Georgia\", \"Greece\", \"Honduras\", \"Hungary\", \"Indonesia\", \"Ireland\", \"Israel\", \"Isle of Man\", \"India\", \"Iraq\", \"Iran, Islamic Republic of\", \"Iceland\", \"Italy\", \"Jamaica\", \"Jordan\", \"Japan\", \"Kenya\", \"Cambodia\", \"Saint Kitts and Nevis\", \"Korea, Democratic People's Republic of\", \"Korea, Republic of\", \"Kuwait\", \"Lebanon\", \"Sri Lanka\", \"Lithuania\", \"Luxembourg\", \"Latvia\", \"Morocco\", \"Moldova, Republic of\", \"North Macedonia\", \"Myanmar\", \"Malta\", \"Mexico\", \"Malaysia\", \"Netherlands\", \"Norway\", \"New Zealand\", \"Panama\", \"Peru\", \"Philippines\", \"Pakistan\", \"Poland\", \"Portugal\", \"Palau\", \"Qatar\", \"Romania\", \"Serbia\", \"Russian Federation\", \"Saudi Arabia\", \"Seychelles\", \"Sweden\", \"Singapore\", \"Slovenia\", \"South Sudan\", \"El Salvador\", \"Syrian Arab Republic\", \"Thailand\", \"Tunisia\", \"Turkey\", \"Trinidad and Tobago\", \"Taiwan, Province of China\", \"Tanzania, United Republic of\", \"Ukraine\", \"United States\", \"Venezuela, Bolivarian Republic of\", \"Virgin Islands, British\", \"Viet Nam\", \"South Africa\", \"Zambia\", \"Zimbabwe\"], \"type\": \"choropleth\", \"z\": [2, 4, 1, 2, 13, 6, 211, 2, 4, 12, 8, 1, 2, 41, 3, 1566, 12, 7, 24, 24, 11, 5, 1, 5, 73, 1, 3, 7, 11, 4, 37, 3, 7, 1, 52, 1064, 1, 1, 17, 3, 7, 6, 33, 14, 1, 122, 13, 14, 6, 25, 9, 3, 22, 1, 1, 1, 1, 9, 1, 2, 5, 4, 3, 1, 4, 1, 2, 3, 3, 101, 17, 11, 17, 46, 3, 8, 32, 15, 10, 21, 1, 1, 16, 10, 9, 5, 1, 14, 2, 3, 1, 2, 2, 5, 1, 16, 5, 1, 1, 7, 36360, 12, 1, 8, 69, 2, 3]}],                        {\"geo\": {\"projection\": {\"type\": \"mercator\"}, \"showframe\": false}, \"template\": {\"data\": {\"bar\": [{\"error_x\": {\"color\": \"#2a3f5f\"}, \"error_y\": {\"color\": \"#2a3f5f\"}, \"marker\": {\"line\": {\"color\": \"#E5ECF6\", \"width\": 0.5}}, \"type\": \"bar\"}], \"barpolar\": [{\"marker\": {\"line\": {\"color\": \"#E5ECF6\", \"width\": 0.5}}, \"type\": \"barpolar\"}], \"carpet\": [{\"aaxis\": {\"endlinecolor\": \"#2a3f5f\", \"gridcolor\": \"white\", \"linecolor\": \"white\", \"minorgridcolor\": \"white\", \"startlinecolor\": \"#2a3f5f\"}, \"baxis\": {\"endlinecolor\": \"#2a3f5f\", \"gridcolor\": \"white\", \"linecolor\": \"white\", \"minorgridcolor\": \"white\", \"startlinecolor\": \"#2a3f5f\"}, \"type\": \"carpet\"}], \"choropleth\": [{\"colorbar\": {\"outlinewidth\": 0, \"ticks\": \"\"}, \"type\": \"choropleth\"}], \"contour\": [{\"colorbar\": {\"outlinewidth\": 0, \"ticks\": \"\"}, \"colorscale\": [[0.0, \"#0d0887\"], [0.1111111111111111, \"#46039f\"], [0.2222222222222222, \"#7201a8\"], [0.3333333333333333, \"#9c179e\"], [0.4444444444444444, \"#bd3786\"], [0.5555555555555556, \"#d8576b\"], [0.6666666666666666, \"#ed7953\"], [0.7777777777777778, \"#fb9f3a\"], [0.8888888888888888, \"#fdca26\"], [1.0, \"#f0f921\"]], \"type\": \"contour\"}], \"contourcarpet\": [{\"colorbar\": {\"outlinewidth\": 0, \"ticks\": \"\"}, \"type\": \"contourcarpet\"}], \"heatmap\": [{\"colorbar\": {\"outlinewidth\": 0, \"ticks\": \"\"}, \"colorscale\": [[0.0, \"#0d0887\"], [0.1111111111111111, \"#46039f\"], [0.2222222222222222, \"#7201a8\"], [0.3333333333333333, \"#9c179e\"], [0.4444444444444444, \"#bd3786\"], [0.5555555555555556, \"#d8576b\"], [0.6666666666666666, \"#ed7953\"], [0.7777777777777778, \"#fb9f3a\"], [0.8888888888888888, \"#fdca26\"], [1.0, \"#f0f921\"]], \"type\": \"heatmap\"}], \"heatmapgl\": [{\"colorbar\": {\"outlinewidth\": 0, \"ticks\": \"\"}, \"colorscale\": [[0.0, \"#0d0887\"], [0.1111111111111111, \"#46039f\"], [0.2222222222222222, \"#7201a8\"], [0.3333333333333333, \"#9c179e\"], [0.4444444444444444, \"#bd3786\"], [0.5555555555555556, \"#d8576b\"], [0.6666666666666666, \"#ed7953\"], [0.7777777777777778, \"#fb9f3a\"], [0.8888888888888888, \"#fdca26\"], [1.0, \"#f0f921\"]], \"type\": \"heatmapgl\"}], \"histogram\": [{\"marker\": {\"colorbar\": {\"outlinewidth\": 0, \"ticks\": \"\"}}, \"type\": \"histogram\"}], \"histogram2d\": [{\"colorbar\": {\"outlinewidth\": 0, \"ticks\": \"\"}, \"colorscale\": [[0.0, \"#0d0887\"], [0.1111111111111111, \"#46039f\"], [0.2222222222222222, \"#7201a8\"], [0.3333333333333333, \"#9c179e\"], [0.4444444444444444, \"#bd3786\"], [0.5555555555555556, \"#d8576b\"], [0.6666666666666666, \"#ed7953\"], [0.7777777777777778, \"#fb9f3a\"], [0.8888888888888888, \"#fdca26\"], [1.0, \"#f0f921\"]], \"type\": \"histogram2d\"}], \"histogram2dcontour\": [{\"colorbar\": {\"outlinewidth\": 0, \"ticks\": \"\"}, \"colorscale\": [[0.0, \"#0d0887\"], [0.1111111111111111, \"#46039f\"], [0.2222222222222222, \"#7201a8\"], [0.3333333333333333, \"#9c179e\"], [0.4444444444444444, \"#bd3786\"], [0.5555555555555556, \"#d8576b\"], [0.6666666666666666, \"#ed7953\"], [0.7777777777777778, \"#fb9f3a\"], [0.8888888888888888, \"#fdca26\"], [1.0, \"#f0f921\"]], \"type\": \"histogram2dcontour\"}], \"mesh3d\": [{\"colorbar\": {\"outlinewidth\": 0, \"ticks\": \"\"}, \"type\": \"mesh3d\"}], \"parcoords\": [{\"line\": {\"colorbar\": {\"outlinewidth\": 0, \"ticks\": \"\"}}, \"type\": \"parcoords\"}], \"pie\": [{\"automargin\": true, \"type\": \"pie\"}], \"scatter\": [{\"marker\": {\"colorbar\": {\"outlinewidth\": 0, \"ticks\": \"\"}}, \"type\": \"scatter\"}], \"scatter3d\": [{\"line\": {\"colorbar\": {\"outlinewidth\": 0, \"ticks\": \"\"}}, \"marker\": {\"colorbar\": {\"outlinewidth\": 0, \"ticks\": \"\"}}, \"type\": \"scatter3d\"}], \"scattercarpet\": [{\"marker\": {\"colorbar\": {\"outlinewidth\": 0, \"ticks\": \"\"}}, \"type\": \"scattercarpet\"}], \"scattergeo\": [{\"marker\": {\"colorbar\": {\"outlinewidth\": 0, \"ticks\": \"\"}}, \"type\": \"scattergeo\"}], \"scattergl\": [{\"marker\": {\"colorbar\": {\"outlinewidth\": 0, \"ticks\": \"\"}}, \"type\": \"scattergl\"}], \"scattermapbox\": [{\"marker\": {\"colorbar\": {\"outlinewidth\": 0, \"ticks\": \"\"}}, \"type\": \"scattermapbox\"}], \"scatterpolar\": [{\"marker\": {\"colorbar\": {\"outlinewidth\": 0, \"ticks\": \"\"}}, \"type\": \"scatterpolar\"}], \"scatterpolargl\": [{\"marker\": {\"colorbar\": {\"outlinewidth\": 0, \"ticks\": \"\"}}, \"type\": \"scatterpolargl\"}], \"scatterternary\": [{\"marker\": {\"colorbar\": {\"outlinewidth\": 0, \"ticks\": \"\"}}, \"type\": \"scatterternary\"}], \"surface\": [{\"colorbar\": {\"outlinewidth\": 0, \"ticks\": \"\"}, \"colorscale\": [[0.0, \"#0d0887\"], [0.1111111111111111, \"#46039f\"], [0.2222222222222222, \"#7201a8\"], [0.3333333333333333, \"#9c179e\"], [0.4444444444444444, \"#bd3786\"], [0.5555555555555556, \"#d8576b\"], [0.6666666666666666, \"#ed7953\"], [0.7777777777777778, \"#fb9f3a\"], [0.8888888888888888, \"#fdca26\"], [1.0, \"#f0f921\"]], \"type\": \"surface\"}], \"table\": [{\"cells\": {\"fill\": {\"color\": \"#EBF0F8\"}, \"line\": {\"color\": \"white\"}}, \"header\": {\"fill\": {\"color\": \"#C8D4E3\"}, \"line\": {\"color\": \"white\"}}, \"type\": \"table\"}]}, \"layout\": {\"annotationdefaults\": {\"arrowcolor\": \"#2a3f5f\", \"arrowhead\": 0, \"arrowwidth\": 1}, \"autotypenumbers\": \"strict\", \"coloraxis\": {\"colorbar\": {\"outlinewidth\": 0, \"ticks\": \"\"}}, \"colorscale\": {\"diverging\": [[0, \"#8e0152\"], [0.1, \"#c51b7d\"], [0.2, \"#de77ae\"], [0.3, \"#f1b6da\"], [0.4, \"#fde0ef\"], [0.5, \"#f7f7f7\"], [0.6, \"#e6f5d0\"], [0.7, \"#b8e186\"], [0.8, \"#7fbc41\"], [0.9, \"#4d9221\"], [1, \"#276419\"]], \"sequential\": [[0.0, \"#0d0887\"], [0.1111111111111111, \"#46039f\"], [0.2222222222222222, \"#7201a8\"], [0.3333333333333333, \"#9c179e\"], [0.4444444444444444, \"#bd3786\"], [0.5555555555555556, \"#d8576b\"], [0.6666666666666666, \"#ed7953\"], [0.7777777777777778, \"#fb9f3a\"], [0.8888888888888888, \"#fdca26\"], [1.0, \"#f0f921\"]], \"sequentialminus\": [[0.0, \"#0d0887\"], [0.1111111111111111, \"#46039f\"], [0.2222222222222222, \"#7201a8\"], [0.3333333333333333, \"#9c179e\"], [0.4444444444444444, \"#bd3786\"], [0.5555555555555556, \"#d8576b\"], [0.6666666666666666, \"#ed7953\"], [0.7777777777777778, \"#fb9f3a\"], [0.8888888888888888, \"#fdca26\"], [1.0, \"#f0f921\"]]}, \"colorway\": [\"#636efa\", \"#EF553B\", \"#00cc96\", \"#ab63fa\", \"#FFA15A\", \"#19d3f3\", \"#FF6692\", \"#B6E880\", \"#FF97FF\", \"#FECB52\"], \"font\": {\"color\": \"#2a3f5f\"}, \"geo\": {\"bgcolor\": \"white\", \"lakecolor\": \"white\", \"landcolor\": \"#E5ECF6\", \"showlakes\": true, \"showland\": true, \"subunitcolor\": \"white\"}, \"hoverlabel\": {\"align\": \"left\"}, \"hovermode\": \"closest\", \"mapbox\": {\"style\": \"light\"}, \"paper_bgcolor\": \"white\", \"plot_bgcolor\": \"#E5ECF6\", \"polar\": {\"angularaxis\": {\"gridcolor\": \"white\", \"linecolor\": \"white\", \"ticks\": \"\"}, \"bgcolor\": \"#E5ECF6\", \"radialaxis\": {\"gridcolor\": \"white\", \"linecolor\": \"white\", \"ticks\": \"\"}}, \"scene\": {\"xaxis\": {\"backgroundcolor\": \"#E5ECF6\", \"gridcolor\": \"white\", \"gridwidth\": 2, \"linecolor\": \"white\", \"showbackground\": true, \"ticks\": \"\", \"zerolinecolor\": \"white\"}, \"yaxis\": {\"backgroundcolor\": \"#E5ECF6\", \"gridcolor\": \"white\", \"gridwidth\": 2, \"linecolor\": \"white\", \"showbackground\": true, \"ticks\": \"\", \"zerolinecolor\": \"white\"}, \"zaxis\": {\"backgroundcolor\": \"#E5ECF6\", \"gridcolor\": \"white\", \"gridwidth\": 2, \"linecolor\": \"white\", \"showbackground\": true, \"ticks\": \"\", \"zerolinecolor\": \"white\"}}, \"shapedefaults\": {\"line\": {\"color\": \"#2a3f5f\"}}, \"ternary\": {\"aaxis\": {\"gridcolor\": \"white\", \"linecolor\": \"white\", \"ticks\": \"\"}, \"baxis\": {\"gridcolor\": \"white\", \"linecolor\": \"white\", \"ticks\": \"\"}, \"bgcolor\": \"#E5ECF6\", \"caxis\": {\"gridcolor\": \"white\", \"linecolor\": \"white\", \"ticks\": \"\"}}, \"title\": {\"x\": 0.05}, \"xaxis\": {\"automargin\": true, \"gridcolor\": \"white\", \"linecolor\": \"white\", \"ticks\": \"\", \"title\": {\"standoff\": 15}, \"zerolinecolor\": \"white\", \"zerolinewidth\": 2}, \"yaxis\": {\"automargin\": true, \"gridcolor\": \"white\", \"linecolor\": \"white\", \"ticks\": \"\", \"title\": {\"standoff\": 15}, \"zerolinecolor\": \"white\", \"zerolinewidth\": 2}}}, \"title\": {\"text\": \"Global UFO Incidents\"}},                        {\"responsive\": true}                    ).then(function(){\n",
       "                            \n",
       "var gd = document.getElementById('4625bdf8-33ca-4840-9247-d0841f8f84d2');\n",
       "var x = new MutationObserver(function (mutations, observer) {{\n",
       "        var display = window.getComputedStyle(gd).display;\n",
       "        if (!display || display === 'none') {{\n",
       "            console.log([gd, 'removed!']);\n",
       "            Plotly.purge(gd);\n",
       "            observer.disconnect();\n",
       "        }}\n",
       "}});\n",
       "\n",
       "// Listen for the removal of the full notebook cells\n",
       "var notebookContainer = gd.closest('#notebook-container');\n",
       "if (notebookContainer) {{\n",
       "    x.observe(notebookContainer, {childList: true});\n",
       "}}\n",
       "\n",
       "// Listen for the clearing of the current output cell\n",
       "var outputEl = gd.closest('.output');\n",
       "if (outputEl) {{\n",
       "    x.observe(outputEl, {childList: true});\n",
       "}}\n",
       "\n",
       "                        })                };                });            </script>        </div>"
      ]
     },
     "metadata": {},
     "output_type": "display_data"
    }
   ],
   "source": [
    "byCountry = ufodata.groupby(['country_code']).count().reset_index()\n",
    "byCountry['count'] = byCountry['city']\n",
    "byCountry['country_name'] = byCountry['country_code'].apply(lambda x: pycountry.countries.get(alpha_2=x).name)\n",
    "\n",
    "data = dict(\n",
    "        type = 'choropleth',\n",
    "        locations = byCountry['country_name'],\n",
    "        locationmode = 'country names',\n",
    "        z = byCountry['count'],\n",
    "        text = byCountry['country_name'],\n",
    "        colorbar = {'title' : 'Global Number of UFO  sightings'},\n",
    "        reversescale = True\n",
    "      ) \n",
    "\n",
    "layout = dict(\n",
    "    title = 'Global UFO Incidents',\n",
    "    geo = dict(\n",
    "        showframe = False,\n",
    "        projection = {'type':'mercator'}\n",
    "    )\n",
    ")\n",
    "\n",
    "choromap = go.Figure(data = [data],layout = layout)\n",
    "iplot(choromap,validate=False)"
   ]
  },
  {
   "cell_type": "markdown",
   "id": "37eb0139",
   "metadata": {},
   "source": [
    "# Data forecasting"
   ]
  },
  {
   "cell_type": "markdown",
   "id": "e54c2672",
   "metadata": {},
   "source": [
    "\\begin{enumerate}\n",
    "\\item Predicting the number of ufo sightings in 2020 Jan. (Regression)\n",
    "\\item Predicting the shape of ufo in 2020 Jan. (Classification)\n",
    "\\item Predicting the region that ufo sighting is most likely to occur in 2020 Jan. (Classification)\n",
    "\\end{enumerate}"
   ]
  },
  {
   "cell_type": "markdown",
   "id": "839dcd9c",
   "metadata": {},
   "source": [
    "## 1). Volume prediction"
   ]
  },
  {
   "cell_type": "markdown",
   "id": "e8958bd7",
   "metadata": {},
   "source": [
    "Based on the plot in the linear fit graph from earlier, I decide to use a LinearRegressor for prediction."
   ]
  },
  {
   "cell_type": "code",
   "execution_count": 62,
   "id": "a78fa444",
   "metadata": {},
   "outputs": [
    {
     "name": "stdout",
     "output_type": "stream",
     "text": [
      "The total number of ufo sightings in 2020 January is predicted to be: 187\n"
     ]
    }
   ],
   "source": [
    "from sklearn.linear_model import LinearRegression\n",
    "\n",
    "X_data = byYM[['Year', 'Month']]\n",
    "y_data = byYM['count']\n",
    "reg = LinearRegression().fit(X_data, y_data)\n",
    "result = reg.predict([[2020, 1]])\n",
    "\n",
    "print('The total number of ufo sightings in 2020 January is predicted to be:', round(result[0]))"
   ]
  },
  {
   "cell_type": "markdown",
   "id": "3fa5ec75",
   "metadata": {},
   "source": [
    "Just a quick check, multiply this number 187 by 12 months, we get roughly 2244 which matches our first guess in the linear line fit plot."
   ]
  },
  {
   "cell_type": "markdown",
   "id": "dc4a97a5",
   "metadata": {},
   "source": [
    "## 2). Shape prediction"
   ]
  },
  {
   "cell_type": "code",
   "execution_count": 63,
   "id": "cf06f712",
   "metadata": {},
   "outputs": [],
   "source": [
    "from sklearn import preprocessing\n",
    "from sklearn.ensemble import RandomForestClassifier\n",
    "le = preprocessing.LabelEncoder()"
   ]
  },
  {
   "cell_type": "code",
   "execution_count": 64,
   "id": "aad961ad",
   "metadata": {},
   "outputs": [
    {
     "name": "stdout",
     "output_type": "stream",
     "text": [
      "The shape of the ufo sighting in 2020 January is most likely to be light\n"
     ]
    }
   ],
   "source": [
    "# encode the labels\n",
    "shapes = ufodata['shape'].unique()\n",
    "le.fit(shapes)\n",
    "# le.classes_\n",
    "\n",
    "X_data = ufodata[['Year', 'Month']]\n",
    "y_data = le.transform(ufodata['shape'])\n",
    "\n",
    "# train the classifier\n",
    "rf = RandomForestClassifier(max_depth=3, random_state=0)\n",
    "rf.fit(X_data, y_data)\n",
    "\n",
    "# make prediction\n",
    "result = le.inverse_transform(rf.predict([[2020, 1]]))\n",
    "print('The shape of the ufo sighting in 2020 January is most likely to be', result[0])"
   ]
  },
  {
   "cell_type": "markdown",
   "id": "1419c7b2",
   "metadata": {},
   "source": [
    "This prediction result also matches our analysis that light shaped ufo sighting is the most popular one."
   ]
  },
  {
   "cell_type": "markdown",
   "id": "e101e3df",
   "metadata": {},
   "source": [
    "## 3). Region prediction"
   ]
  },
  {
   "cell_type": "markdown",
   "id": "57ed2bac",
   "metadata": {
    "scrolled": false
   },
   "source": [
    "There is an extreme class imbalance problem, so taking only the first 15 countries for region prediction."
   ]
  },
  {
   "cell_type": "code",
   "execution_count": 65,
   "id": "522d189a",
   "metadata": {
    "scrolled": false
   },
   "outputs": [
    {
     "name": "stderr",
     "output_type": "stream",
     "text": [
      "/home/mary/anaconda3/envs/py36/lib/python3.6/site-packages/pandas/core/frame.py:4170: SettingWithCopyWarning:\n",
      "\n",
      "\n",
      "A value is trying to be set on a copy of a slice from a DataFrame\n",
      "\n",
      "See the caveats in the documentation: https://pandas.pydata.org/pandas-docs/stable/user_guide/indexing.html#returning-a-view-versus-a-copy\n",
      "\n"
     ]
    }
   ],
   "source": [
    "most_frequent = ufodata['country_code'].value_counts()[:15].index\n",
    "ufodata['mf'] = ufodata['country_code'].apply(lambda x: x in most_frequent)\n",
    "mf_ufodata = ufodata[ufodata['mf']==True]\n",
    "mf_ufodata.drop(['mf'], axis=1, inplace=True)"
   ]
  },
  {
   "cell_type": "code",
   "execution_count": 66,
   "id": "008538f5",
   "metadata": {},
   "outputs": [
    {
     "data": {
      "image/png": "[encoded data removed]",
      "text/plain": [
       "<Figure size 1080x432 with 1 Axes>"
      ]
     },
     "metadata": {
      "needs_background": "light"
     },
     "output_type": "display_data"
    }
   ],
   "source": [
    "# take a look at the country distribution\n",
    "plt.figure(figsize=(15,6))\n",
    "sns.countplot(x=mf_ufodata['country_code']).set(title='Top 15 Countries for UFO Sightings')\n",
    "None"
   ]
  },
  {
   "cell_type": "markdown",
   "id": "44e15d7e",
   "metadata": {},
   "source": [
    "United States has the most ufo sightings occuring and the next 2 countries are Canada and United Kingdom. Even though Canada and UK are ranked 2nd and 3rd, US is still 10x the number of Canada and UK. The reason might be that there are a lot of secret military sites used to test aerial surveillance and nuclear missile sites in US. [2] Those out-of-space creatures who use advanced technologies might also like the advanced technologies on Earth, especially in the US."
   ]
  },
  {
   "cell_type": "code",
   "execution_count": 67,
   "id": "83aa9d8a",
   "metadata": {},
   "outputs": [
    {
     "name": "stdout",
     "output_type": "stream",
     "text": [
      "As expected, in 2020 January, ufo sighting is most likely to occur in US\n"
     ]
    }
   ],
   "source": [
    "# as always, encode the labels\n",
    "countries = mf_ufodata['country_code'].unique()\n",
    "le.fit(countries)\n",
    "\n",
    "X_data = mf_ufodata[['Year', 'Month']]\n",
    "y_data = le.transform(mf_ufodata['country_code'])\n",
    "\n",
    "# train the classifier\n",
    "rf = RandomForestClassifier(max_depth=3, random_state=0)\n",
    "rf.fit(X_data, y_data)\n",
    "\n",
    "# make prediction\n",
    "result = le.inverse_transform(rf.predict([[2020, 1]]))\n",
    "print('As expected, in 2020 January, ufo sighting is most likely to occur in', result[0])"
   ]
  },
  {
   "cell_type": "markdown",
   "id": "d115a7ac",
   "metadata": {},
   "source": [
    "#### Reference\n",
    "[1] https://www.theguardian.com/world/2018/sep/21/what-is-behind-the-decline-in-ufo-sightings\n",
    "\n",
    "[2] \\textit{\"REPORT ON THE UFO WAVE OF 1947\"} by Ted Bloecher, University of Arizona 1967."
   ]
  },
  {
   "cell_type": "markdown",
   "id": "d1897c7f",
   "metadata": {},
   "source": [
    "### ---End of report---"
   ]
  },
  {
   "cell_type": "code",
   "execution_count": null,
   "id": "f85e24a2",
   "metadata": {},
   "outputs": [],
   "source": []
  }
 ],
 "metadata": {
  "kernelspec": {
   "display_name": "Python 3",
   "language": "python",
   "name": "python3"
  },
  "language_info": {
   "codemirror_mode": {
    "name": "ipython",
    "version": 3
   },
   "file_extension": ".py",
   "mimetype": "text/x-python",
   "name": "python",
   "nbconvert_exporter": "python",
   "pygments_lexer": "ipython3",
   "version": "3.6.13"
  },
  "latex_envs": {
   "LaTeX_envs_menu_present": true,
   "autoclose": false,
   "autocomplete": true,
   "bibliofile": "biblio.bib",
   "cite_by": "apalike",
   "current_citInitial": 1,
   "eqLabelWithNumbers": true,
   "eqNumInitial": 1,
   "hotkeys": {
    "equation": "Ctrl-E",
    "itemize": "Ctrl-I"
   },
   "labels_anchors": false,
   "latex_user_defs": false,
   "report_style_numbering": false,
   "user_envs_cfg": false
  }
 },
 "nbformat": 4,
 "nbformat_minor": 5
}
