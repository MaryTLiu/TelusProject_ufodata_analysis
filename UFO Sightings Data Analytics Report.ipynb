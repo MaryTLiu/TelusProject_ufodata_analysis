{
 "cells": [
  {
   "cell_type": "code",
   "execution_count": 1,
   "id": "5a30b707",
   "metadata": {},
   "outputs": [
    {
     "data": {
      "text/html": [
       "        <script type=\"text/javascript\">\n",
       "        window.PlotlyConfig = {MathJaxConfig: 'local'};\n",
       "        if (window.MathJax) {MathJax.Hub.Config({SVG: {font: \"STIX-Web\"}});}\n",
       "        if (typeof require !== 'undefined') {\n",
       "        require.undef(\"plotly\");\n",
       "        requirejs.config({\n",
       "            paths: {\n",
       "                'plotly': ['https://cdn.plot.ly/plotly-latest.min']\n",
       "            }\n",
       "        });\n",
       "        require(['plotly'], function(Plotly) {\n",
       "            window._Plotly = Plotly;\n",
       "        });\n",
       "        }\n",
       "        </script>\n",
       "        "
      ]
     },
     "metadata": {},
     "output_type": "display_data"
    }
   ],
   "source": [
    "import pandas as pd\n",
    "import numpy as np\n",
    "import pycountry\n",
    "import matplotlib.pyplot as plt\n",
    "import seaborn as sns\n",
    "import chart_studio.plotly as py\n",
    "import plotly.graph_objs as go \n",
    "from plotly.offline import download_plotlyjs, init_notebook_mode, plot, iplot\n",
    "init_notebook_mode(connected=True) \n",
    "\n",
    "sns.set_style('whitegrid')\n",
    "%matplotlib inline\n",
    "\n",
    "# load the messy data\n",
    "messy_ufodata = pd.read_csv('nuforc_reports.csv')\n",
    "\n",
    "# load the cleaned data\n",
    "ufodata = pd.read_csv('ufodata_version2.csv', engine='python')"
   ]
  },
  {
   "cell_type": "markdown",
   "id": "8f7a3d52",
   "metadata": {},
   "source": [
    "#### This is what the original data looks like before the Data Cleaning process"
   ]
  },
  {
   "cell_type": "code",
   "execution_count": 2,
   "id": "0d0487b1",
   "metadata": {},
   "outputs": [
    {
     "name": "stdout",
     "output_type": "stream",
     "text": [
      "Missing value in %: \n"
     ]
    },
    {
     "data": {
      "text/plain": [
       "summary            0.04\n",
       "city               0.31\n",
       "state              6.87\n",
       "date_time          1.56\n",
       "shape              3.28\n",
       "duration           4.16\n",
       "stats              0.05\n",
       "report_link        0.00\n",
       "text               0.07\n",
       "posted             1.56\n",
       "city_latitude     21.14\n",
       "city_longitude    21.14\n",
       "dtype: float64"
      ]
     },
     "execution_count": 2,
     "metadata": {},
     "output_type": "execute_result"
    }
   ],
   "source": [
    "nulval = messy_ufodata.isnull().sum()\n",
    "print('Missing value in %: ')\n",
    "round((nulval/ufodata.shape[0])*100, 2)"
   ]
  },
  {
   "cell_type": "code",
   "execution_count": 3,
   "id": "4e0d6118",
   "metadata": {},
   "outputs": [
    {
     "data": {
      "text/plain": [
       "<AxesSubplot:>"
      ]
     },
     "execution_count": 3,
     "metadata": {},
     "output_type": "execute_result"
    },
    {
     "data": {
      "image/png": "[encoded data removed]",
      "text/plain": [
       "<Figure size 432x288 with 1 Axes>"
      ]
     },
     "metadata": {
      "needs_background": "light"
     },
     "output_type": "display_data"
    }
   ],
   "source": [
    "# plot missing values using heatmap to get an overall distribution\n",
    "sns.heatmap(messy_ufodata.isnull(), yticklabels=False, cbar=False, cmap='viridis')"
   ]
  },
  {
   "cell_type": "markdown",
   "id": "780bd815",
   "metadata": {},
   "source": [
    "#### After cleaning"
   ]
  },
  {
   "cell_type": "code",
   "execution_count": 4,
   "id": "18deaebb",
   "metadata": {},
   "outputs": [
    {
     "data": {
      "text/plain": [
       "<AxesSubplot:>"
      ]
     },
     "execution_count": 4,
     "metadata": {},
     "output_type": "execute_result"
    },
    {
     "data": {
      "image/png": "[encoded data removed]",
      "text/plain": [
       "<Figure size 432x288 with 1 Axes>"
      ]
     },
     "metadata": {
      "needs_background": "light"
     },
     "output_type": "display_data"
    }
   ],
   "source": [
    "sns.heatmap(ufodata.isnull(), yticklabels=False, cbar=False, cmap='viridis')"
   ]
  },
  {
   "cell_type": "code",
   "execution_count": 5,
   "id": "f43a9cff",
   "metadata": {},
   "outputs": [
    {
     "name": "stdout",
     "output_type": "stream",
     "text": [
      "<class 'pandas.core.frame.DataFrame'>\n",
      "RangeIndex: 76215 entries, 0 to 76214\n",
      "Data columns (total 10 columns):\n",
      " #   Column          Non-Null Count  Dtype  \n",
      "---  ------          --------------  -----  \n",
      " 0   datetime        76215 non-null  object \n",
      " 1   city            76215 non-null  object \n",
      " 2   state           76215 non-null  object \n",
      " 3   shape           76215 non-null  object \n",
      " 4   duration        76215 non-null  float64\n",
      " 5   city_latitude   76215 non-null  float64\n",
      " 6   city_longitude  76215 non-null  float64\n",
      " 7   country_code    76212 non-null  object \n",
      " 8   Year            76215 non-null  int64  \n",
      " 9   Month           76215 non-null  int64  \n",
      "dtypes: float64(3), int64(2), object(5)\n",
      "memory usage: 5.8+ MB\n"
     ]
    }
   ],
   "source": [
    "ufodata.info()"
   ]
  },
  {
   "cell_type": "code",
   "execution_count": 6,
   "id": "d10d59aa",
   "metadata": {},
   "outputs": [
    {
     "data": {
      "text/html": [
       "<div>\n",
       "<style scoped>\n",
       "    .dataframe tbody tr th:only-of-type {\n",
       "        vertical-align: middle;\n",
       "    }\n",
       "\n",
       "    .dataframe tbody tr th {\n",
       "        vertical-align: top;\n",
       "    }\n",
       "\n",
       "    .dataframe thead th {\n",
       "        text-align: right;\n",
       "    }\n",
       "</style>\n",
       "<table border=\"1\" class=\"dataframe\">\n",
       "  <thead>\n",
       "    <tr style=\"text-align: right;\">\n",
       "      <th></th>\n",
       "      <th>duration</th>\n",
       "      <th>city_latitude</th>\n",
       "      <th>city_longitude</th>\n",
       "      <th>Year</th>\n",
       "      <th>Month</th>\n",
       "    </tr>\n",
       "  </thead>\n",
       "  <tbody>\n",
       "    <tr>\n",
       "      <th>count</th>\n",
       "      <td>76215.000000</td>\n",
       "      <td>76215.000000</td>\n",
       "      <td>76215.000000</td>\n",
       "      <td>76215.000000</td>\n",
       "      <td>76215.000000</td>\n",
       "    </tr>\n",
       "    <tr>\n",
       "      <th>mean</th>\n",
       "      <td>868.568799</td>\n",
       "      <td>38.095129</td>\n",
       "      <td>-88.640328</td>\n",
       "      <td>2011.072952</td>\n",
       "      <td>6.956111</td>\n",
       "    </tr>\n",
       "    <tr>\n",
       "      <th>std</th>\n",
       "      <td>4294.287120</td>\n",
       "      <td>9.051855</td>\n",
       "      <td>33.965907</td>\n",
       "      <td>7.284035</td>\n",
       "      <td>3.221277</td>\n",
       "    </tr>\n",
       "    <tr>\n",
       "      <th>min</th>\n",
       "      <td>0.000000</td>\n",
       "      <td>-53.162569</td>\n",
       "      <td>-176.645751</td>\n",
       "      <td>1969.000000</td>\n",
       "      <td>1.000000</td>\n",
       "    </tr>\n",
       "    <tr>\n",
       "      <th>25%</th>\n",
       "      <td>30.000000</td>\n",
       "      <td>34.085300</td>\n",
       "      <td>-111.865064</td>\n",
       "      <td>2009.000000</td>\n",
       "      <td>4.000000</td>\n",
       "    </tr>\n",
       "    <tr>\n",
       "      <th>50%</th>\n",
       "      <td>180.000000</td>\n",
       "      <td>39.219869</td>\n",
       "      <td>-87.361034</td>\n",
       "      <td>2012.000000</td>\n",
       "      <td>7.000000</td>\n",
       "    </tr>\n",
       "    <tr>\n",
       "      <th>75%</th>\n",
       "      <td>600.000000</td>\n",
       "      <td>42.463577</td>\n",
       "      <td>-78.898136</td>\n",
       "      <td>2015.000000</td>\n",
       "      <td>10.000000</td>\n",
       "    </tr>\n",
       "    <tr>\n",
       "      <th>max</th>\n",
       "      <td>331200.000000</td>\n",
       "      <td>73.337473</td>\n",
       "      <td>178.442166</td>\n",
       "      <td>2019.000000</td>\n",
       "      <td>12.000000</td>\n",
       "    </tr>\n",
       "  </tbody>\n",
       "</table>\n",
       "</div>"
      ],
      "text/plain": [
       "            duration  city_latitude  city_longitude          Year  \\\n",
       "count   76215.000000   76215.000000    76215.000000  76215.000000   \n",
       "mean      868.568799      38.095129      -88.640328   2011.072952   \n",
       "std      4294.287120       9.051855       33.965907      7.284035   \n",
       "min         0.000000     -53.162569     -176.645751   1969.000000   \n",
       "25%        30.000000      34.085300     -111.865064   2009.000000   \n",
       "50%       180.000000      39.219869      -87.361034   2012.000000   \n",
       "75%       600.000000      42.463577      -78.898136   2015.000000   \n",
       "max    331200.000000      73.337473      178.442166   2019.000000   \n",
       "\n",
       "              Month  \n",
       "count  76215.000000  \n",
       "mean       6.956111  \n",
       "std        3.221277  \n",
       "min        1.000000  \n",
       "25%        4.000000  \n",
       "50%        7.000000  \n",
       "75%       10.000000  \n",
       "max       12.000000  "
      ]
     },
     "execution_count": 6,
     "metadata": {},
     "output_type": "execute_result"
    }
   ],
   "source": [
    "ufodata.describe()"
   ]
  },
  {
   "cell_type": "code",
   "execution_count": 7,
   "id": "69134291",
   "metadata": {},
   "outputs": [
    {
     "data": {
      "text/html": [
       "<div>\n",
       "<style scoped>\n",
       "    .dataframe tbody tr th:only-of-type {\n",
       "        vertical-align: middle;\n",
       "    }\n",
       "\n",
       "    .dataframe tbody tr th {\n",
       "        vertical-align: top;\n",
       "    }\n",
       "\n",
       "    .dataframe thead th {\n",
       "        text-align: right;\n",
       "    }\n",
       "</style>\n",
       "<table border=\"1\" class=\"dataframe\">\n",
       "  <thead>\n",
       "    <tr style=\"text-align: right;\">\n",
       "      <th></th>\n",
       "      <th>datetime</th>\n",
       "      <th>city</th>\n",
       "      <th>state</th>\n",
       "      <th>shape</th>\n",
       "      <th>duration</th>\n",
       "      <th>city_latitude</th>\n",
       "      <th>city_longitude</th>\n",
       "      <th>country_code</th>\n",
       "      <th>Year</th>\n",
       "      <th>Month</th>\n",
       "    </tr>\n",
       "  </thead>\n",
       "  <tbody>\n",
       "    <tr>\n",
       "      <th>0</th>\n",
       "      <td>1969-01-08 21:30:00</td>\n",
       "      <td>Pittsburgh</td>\n",
       "      <td>PA</td>\n",
       "      <td>other</td>\n",
       "      <td>300.0</td>\n",
       "      <td>40.443092</td>\n",
       "      <td>-79.974242</td>\n",
       "      <td>US</td>\n",
       "      <td>1969</td>\n",
       "      <td>1</td>\n",
       "    </tr>\n",
       "    <tr>\n",
       "      <th>1</th>\n",
       "      <td>1969-03-01 00:00:00</td>\n",
       "      <td>Omaha</td>\n",
       "      <td>NE</td>\n",
       "      <td>oval</td>\n",
       "      <td>1.0</td>\n",
       "      <td>41.254852</td>\n",
       "      <td>-96.064828</td>\n",
       "      <td>US</td>\n",
       "      <td>1969</td>\n",
       "      <td>3</td>\n",
       "    </tr>\n",
       "    <tr>\n",
       "      <th>2</th>\n",
       "      <td>1969-03-15 11:00:00</td>\n",
       "      <td>Oroville</td>\n",
       "      <td>WA</td>\n",
       "      <td>cross</td>\n",
       "      <td>120.0</td>\n",
       "      <td>48.879100</td>\n",
       "      <td>-119.224500</td>\n",
       "      <td>US</td>\n",
       "      <td>1969</td>\n",
       "      <td>3</td>\n",
       "    </tr>\n",
       "    <tr>\n",
       "      <th>3</th>\n",
       "      <td>1969-03-15 21:00:00</td>\n",
       "      <td>Little Axe</td>\n",
       "      <td>OK</td>\n",
       "      <td>rectangle</td>\n",
       "      <td>60.0</td>\n",
       "      <td>35.232570</td>\n",
       "      <td>-97.212528</td>\n",
       "      <td>US</td>\n",
       "      <td>1969</td>\n",
       "      <td>3</td>\n",
       "    </tr>\n",
       "    <tr>\n",
       "      <th>4</th>\n",
       "      <td>1969-03-17 20:00:00</td>\n",
       "      <td>Odessa</td>\n",
       "      <td>WA</td>\n",
       "      <td>circle</td>\n",
       "      <td>600.0</td>\n",
       "      <td>47.340700</td>\n",
       "      <td>-118.669300</td>\n",
       "      <td>US</td>\n",
       "      <td>1969</td>\n",
       "      <td>3</td>\n",
       "    </tr>\n",
       "  </tbody>\n",
       "</table>\n",
       "</div>"
      ],
      "text/plain": [
       "              datetime        city state      shape  duration  city_latitude  \\\n",
       "0  1969-01-08 21:30:00  Pittsburgh    PA      other     300.0      40.443092   \n",
       "1  1969-03-01 00:00:00       Omaha    NE       oval       1.0      41.254852   \n",
       "2  1969-03-15 11:00:00    Oroville    WA      cross     120.0      48.879100   \n",
       "3  1969-03-15 21:00:00  Little Axe    OK  rectangle      60.0      35.232570   \n",
       "4  1969-03-17 20:00:00      Odessa    WA     circle     600.0      47.340700   \n",
       "\n",
       "   city_longitude country_code  Year  Month  \n",
       "0      -79.974242           US  1969      1  \n",
       "1      -96.064828           US  1969      3  \n",
       "2     -119.224500           US  1969      3  \n",
       "3      -97.212528           US  1969      3  \n",
       "4     -118.669300           US  1969      3  "
      ]
     },
     "execution_count": 7,
     "metadata": {},
     "output_type": "execute_result"
    }
   ],
   "source": [
    "ufodata.head()"
   ]
  },
  {
   "cell_type": "markdown",
   "id": "4a2c3bf6",
   "metadata": {},
   "source": [
    "# Data Analysis"
   ]
  },
  {
   "cell_type": "markdown",
   "id": "20d489fc",
   "metadata": {},
   "source": [
    "### Questions to explore:\n",
    "\n",
    "* What are the times and seasons that have the most frequent ufo sightings and why?\n",
    "* Why are the incidents more frequent in some regions?\n",
    "* What are some potential drivers for the incidents?"
   ]
  },
  {
   "cell_type": "code",
   "execution_count": 8,
   "id": "b1eaca93",
   "metadata": {
    "scrolled": false
   },
   "outputs": [
    {
     "data": {
      "image/png": "[encoded data removed]",
      "text/plain": [
       "<Figure size 1080x360 with 1 Axes>"
      ]
     },
     "metadata": {
      "needs_background": "light"
     },
     "output_type": "display_data"
    }
   ],
   "source": [
    "plt.figure(figsize=(15,5))\n",
    "yearplot = sns.countplot(x=ufodata['Year'])\n",
    "yearplot.set(title='Number of UFO Sightings per Year')\n",
    "yearplot.set_xticklabels(yearplot.get_xticklabels(), \n",
    "                         rotation=45,\n",
    "                         fontweight='light',\n",
    "                         fontsize='x-large')\n",
    "None"
   ]
  },
  {
   "cell_type": "code",
   "execution_count": 9,
   "id": "e1a188b6",
   "metadata": {
    "scrolled": true
   },
   "outputs": [
    {
     "name": "stdout",
     "output_type": "stream",
     "text": [
      "Top 10 years that have most ufo sightings:\n"
     ]
    },
    {
     "data": {
      "text/plain": [
       "2014    7852\n",
       "2012    7316\n",
       "2013    7011\n",
       "2015    6136\n",
       "2016    5039\n",
       "2011    5017\n",
       "2008    4692\n",
       "2019    4543\n",
       "2017    4452\n",
       "2009    4412\n",
       "Name: Year, dtype: int64"
      ]
     },
     "execution_count": 9,
     "metadata": {},
     "output_type": "execute_result"
    }
   ],
   "source": [
    "print('Top 10 years that have most ufo sightings:')\n",
    "ufodata['Year'].value_counts()[:10]"
   ]
  },
  {
   "cell_type": "markdown",
   "id": "49739755",
   "metadata": {},
   "source": [
    "The number of UFO sightings is at an increasing trend from 2006 to 2014, and it jumps from hundreds to thousands just between 2005 and 2006 years, and then it starts to decline from 2014. The peak times are at 2012 to 2014 where it is above 7000 cases. Maybe during those increasing times, social medias, movies, and cartoons about UFOs are rising and people get very interested to them, and then after 2014 [1], maybe people start to see UFO as a normal thing and not as interesting as before."
   ]
  },
  {
   "cell_type": "code",
   "execution_count": 10,
   "id": "97bd50d0",
   "metadata": {},
   "outputs": [
    {
     "data": {
      "image/png": "[encoded data removed]",
      "text/plain": [
       "<Figure size 432x288 with 1 Axes>"
      ]
     },
     "metadata": {
      "needs_background": "light"
     },
     "output_type": "display_data"
    }
   ],
   "source": [
    "sns.countplot(x=ufodata['Month']).set(title='Number of UFO Sightings per Month')\n",
    "None"
   ]
  },
  {
   "cell_type": "code",
   "execution_count": 11,
   "id": "7d387601",
   "metadata": {},
   "outputs": [
    {
     "data": {
      "image/png": "[encoded data removed]",
      "text/plain": [
       "<Figure size 1080x360 with 1 Axes>"
      ]
     },
     "metadata": {
      "needs_background": "light"
     },
     "output_type": "display_data"
    }
   ],
   "source": [
    "plt.figure(figsize=(15,5))\n",
    "sns.countplot(x=ufodata['Month'], \n",
    "              hue=ufodata['shape']).set(title='Number of UFO Sightings per Month with Shape')\n",
    "plt.legend(bbox_to_anchor=(1.05, 1), loc=2, borderaxespad=0.)\n",
    "None"
   ]
  },
  {
   "cell_type": "markdown",
   "id": "3a0d7401",
   "metadata": {},
   "source": [
    "Peak months of ufo sightings is from July to August (Fig. Number of UFO Sightings per Month) which correspond to summer times, maybe during summer times people are more active and so more chances of spoting a UFO. And the most popular shape of ufo is light shaped (Fig. Occurrences of Each Shape), that make senses because most of the times when ufo appearing, it always comes with light."
   ]
  },
  {
   "cell_type": "code",
   "execution_count": 12,
   "id": "54f7d44b",
   "metadata": {
    "scrolled": true
   },
   "outputs": [
    {
     "data": {
      "image/png": "[encoded data removed]",
      "text/plain": [
       "<Figure size 432x288 with 1 Axes>"
      ]
     },
     "metadata": {
      "needs_background": "light"
     },
     "output_type": "display_data"
    }
   ],
   "source": [
    "sns.countplot(x=ufodata['shape']).set(title='Occurrences of Each Shape')\n",
    "None"
   ]
  },
  {
   "cell_type": "code",
   "execution_count": 13,
   "id": "870e66c7",
   "metadata": {
    "scrolled": false
   },
   "outputs": [
    {
     "data": {
      "image/png": "[encoded data removed]",
      "text/plain": [
       "<Figure size 360x360 with 1 Axes>"
      ]
     },
     "metadata": {
      "needs_background": "light"
     },
     "output_type": "display_data"
    }
   ],
   "source": [
    "byYear = ufodata.groupby(ufodata['Year']).count().reset_index()\n",
    "linfit = sns.lmplot(x='Year', y='city', data=byYear)\n",
    "linfit.set(title='Linear Fit of Number of Total Sightings vs. Year', ylabel='count')\n",
    "None"
   ]
  },
  {
   "cell_type": "markdown",
   "id": "58ab01f3",
   "metadata": {},
   "source": [
    "For decades since 1970, the number of ufo sightings remain fairly constant upto about year 2005. According to the linear line fit, a possible prediction for 2020 would be around 4000 to 5000 sightings. An anomaly occurs at year 2014, this can also be seen from the previous countplot (Fig. Number of UFO Sightings per Year) where the number of ufo sightings almost hits 8000 in year 2014."
   ]
  },
  {
   "cell_type": "code",
   "execution_count": 14,
   "id": "a2e43cbb",
   "metadata": {},
   "outputs": [
    {
     "data": {
      "image/png": "[encoded data removed]",
      "text/plain": [
       "<Figure size 360x360 with 1 Axes>"
      ]
     },
     "metadata": {
      "needs_background": "light"
     },
     "output_type": "display_data"
    }
   ],
   "source": [
    "byYear['Avg(/mon)'] = byYear['city'].div(12).round()\n",
    "linfitavg = sns.lmplot(x='Year', y='Avg(/mon)', data=byYear)\n",
    "linfitavg.set(title='Average Number of Sightings per Month in Each Year', \n",
    "              ylabel='monthly average sightings')\n",
    "None"
   ]
  },
  {
   "cell_type": "code",
   "execution_count": 15,
   "id": "e95746f0",
   "metadata": {},
   "outputs": [
    {
     "data": {
      "image/png": "[encoded data removed]",
      "text/plain": [
       "<Figure size 540x540 with 12 Axes>"
      ]
     },
     "metadata": {
      "needs_background": "light"
     },
     "output_type": "display_data"
    }
   ],
   "source": [
    "# Check for correlations between Year, Month, and count\n",
    "byYM = ufodata.groupby(['Year', 'Month']).count().reset_index()\n",
    "byYM['count'] = byYM['city']\n",
    "sns.pairplot(byYM[['Year', 'Month', 'count']])\n",
    "None"
   ]
  },
  {
   "cell_type": "markdown",
   "id": "7f509f7c",
   "metadata": {},
   "source": [
    "It doesn't look like there is any strong correlation between {year and count} and {month and count}."
   ]
  },
  {
   "cell_type": "markdown",
   "id": "984f436b",
   "metadata": {},
   "source": [
    "## Geographical Distribution"
   ]
  },
  {
   "cell_type": "code",
   "execution_count": 16,
   "id": "7115924c",
   "metadata": {},
   "outputs": [
    {
     "data": {
      "text/plain": [
       "US    69819\n",
       "CA     2756\n",
       "GB     1295\n",
       "Name: country_code, dtype: int64"
      ]
     },
     "execution_count": 16,
     "metadata": {},
     "output_type": "execute_result"
    }
   ],
   "source": [
    "ufodata['country_code'].value_counts()[:3]"
   ]
  },
  {
   "cell_type": "markdown",
   "id": "ae889cd5",
   "metadata": {},
   "source": [
    "Top 3 countries have the most frequent ufo sightings:\n",
    "* US = United States \n",
    "* CA = Canada\n",
    "* GB = United Kingdom\n",
    "\n",
    "From the joint plot below, most popular regions are clustered around United States and United Kingdom, the reason might be that these 2 countries are the ones who have the highest number of advanced military and nuclear technologies in the world."
   ]
  },
  {
   "cell_type": "code",
   "execution_count": 17,
   "id": "7b67d102",
   "metadata": {},
   "outputs": [
    {
     "data": {
      "image/png": "[encoded data removed]",
      "text/plain": [
       "<Figure size 576x576 with 3 Axes>"
      ]
     },
     "metadata": {
      "needs_background": "light"
     },
     "output_type": "display_data"
    }
   ],
   "source": [
    "def get_us_ca_gb(col):\n",
    "    '''\n",
    "    return:\n",
    "    US = United States\n",
    "    CA = Canada\n",
    "    GB = United Kingdom\n",
    "    not US, CA, or GB = other\n",
    "    '''\n",
    "    \n",
    "    if col[0] == 'US':\n",
    "        return 'US'\n",
    "    elif col[0] == 'CA':\n",
    "        return 'CA'\n",
    "    elif col[0] == 'GB':\n",
    "        return 'GB'\n",
    "    else:\n",
    "        return 'other'\n",
    "    \n",
    "ufodata['us_ca_gb'] = ufodata[['country_code']].apply(get_us_ca_gb, axis=1)\n",
    "\n",
    "# joint plot using latitude and longitude\n",
    "sns.jointplot(x='city_latitude',\n",
    "              y='city_longitude',\n",
    "              hue='us_ca_gb',\n",
    "              height=8,\n",
    "              ratio=6,\n",
    "              data=ufodata).fig.suptitle(\"Global Distribution of UFO Incidents\")\n",
    "None"
   ]
  },
  {
   "cell_type": "code",
   "execution_count": 18,
   "id": "79f55def",
   "metadata": {},
   "outputs": [
    {
     "data": {
      "text/html": [
       "<div>\n",
       "<style scoped>\n",
       "    .dataframe tbody tr th:only-of-type {\n",
       "        vertical-align: middle;\n",
       "    }\n",
       "\n",
       "    .dataframe tbody tr th {\n",
       "        vertical-align: top;\n",
       "    }\n",
       "\n",
       "    .dataframe thead th {\n",
       "        text-align: right;\n",
       "    }\n",
       "</style>\n",
       "<table border=\"1\" class=\"dataframe\">\n",
       "  <thead>\n",
       "    <tr style=\"text-align: right;\">\n",
       "      <th></th>\n",
       "      <th>datetime</th>\n",
       "      <th>city</th>\n",
       "      <th>state</th>\n",
       "      <th>shape</th>\n",
       "      <th>duration</th>\n",
       "      <th>city_latitude</th>\n",
       "      <th>city_longitude</th>\n",
       "      <th>country_code</th>\n",
       "      <th>Year</th>\n",
       "      <th>Month</th>\n",
       "      <th>us_ca_gb</th>\n",
       "    </tr>\n",
       "  </thead>\n",
       "  <tbody>\n",
       "    <tr>\n",
       "      <th>0</th>\n",
       "      <td>1969-01-08 21:30:00</td>\n",
       "      <td>Pittsburgh</td>\n",
       "      <td>PA</td>\n",
       "      <td>other</td>\n",
       "      <td>300.0</td>\n",
       "      <td>40.443092</td>\n",
       "      <td>-79.974242</td>\n",
       "      <td>US</td>\n",
       "      <td>1969</td>\n",
       "      <td>1</td>\n",
       "      <td>US</td>\n",
       "    </tr>\n",
       "    <tr>\n",
       "      <th>1</th>\n",
       "      <td>1969-03-01 00:00:00</td>\n",
       "      <td>Omaha</td>\n",
       "      <td>NE</td>\n",
       "      <td>oval</td>\n",
       "      <td>1.0</td>\n",
       "      <td>41.254852</td>\n",
       "      <td>-96.064828</td>\n",
       "      <td>US</td>\n",
       "      <td>1969</td>\n",
       "      <td>3</td>\n",
       "      <td>US</td>\n",
       "    </tr>\n",
       "    <tr>\n",
       "      <th>2</th>\n",
       "      <td>1969-03-15 11:00:00</td>\n",
       "      <td>Oroville</td>\n",
       "      <td>WA</td>\n",
       "      <td>cross</td>\n",
       "      <td>120.0</td>\n",
       "      <td>48.879100</td>\n",
       "      <td>-119.224500</td>\n",
       "      <td>US</td>\n",
       "      <td>1969</td>\n",
       "      <td>3</td>\n",
       "      <td>US</td>\n",
       "    </tr>\n",
       "    <tr>\n",
       "      <th>3</th>\n",
       "      <td>1969-03-15 21:00:00</td>\n",
       "      <td>Little Axe</td>\n",
       "      <td>OK</td>\n",
       "      <td>rectangle</td>\n",
       "      <td>60.0</td>\n",
       "      <td>35.232570</td>\n",
       "      <td>-97.212528</td>\n",
       "      <td>US</td>\n",
       "      <td>1969</td>\n",
       "      <td>3</td>\n",
       "      <td>US</td>\n",
       "    </tr>\n",
       "    <tr>\n",
       "      <th>4</th>\n",
       "      <td>1969-03-17 20:00:00</td>\n",
       "      <td>Odessa</td>\n",
       "      <td>WA</td>\n",
       "      <td>circle</td>\n",
       "      <td>600.0</td>\n",
       "      <td>47.340700</td>\n",
       "      <td>-118.669300</td>\n",
       "      <td>US</td>\n",
       "      <td>1969</td>\n",
       "      <td>3</td>\n",
       "      <td>US</td>\n",
       "    </tr>\n",
       "    <tr>\n",
       "      <th>...</th>\n",
       "      <td>...</td>\n",
       "      <td>...</td>\n",
       "      <td>...</td>\n",
       "      <td>...</td>\n",
       "      <td>...</td>\n",
       "      <td>...</td>\n",
       "      <td>...</td>\n",
       "      <td>...</td>\n",
       "      <td>...</td>\n",
       "      <td>...</td>\n",
       "      <td>...</td>\n",
       "    </tr>\n",
       "    <tr>\n",
       "      <th>76210</th>\n",
       "      <td>2019-12-22 20:35:00</td>\n",
       "      <td>Fishkill</td>\n",
       "      <td>NY</td>\n",
       "      <td>circle</td>\n",
       "      <td>60.0</td>\n",
       "      <td>41.527700</td>\n",
       "      <td>-73.907200</td>\n",
       "      <td>US</td>\n",
       "      <td>2019</td>\n",
       "      <td>12</td>\n",
       "      <td>US</td>\n",
       "    </tr>\n",
       "    <tr>\n",
       "      <th>76211</th>\n",
       "      <td>2019-12-22 21:00:00</td>\n",
       "      <td>Bethlehem</td>\n",
       "      <td>PA</td>\n",
       "      <td>other</td>\n",
       "      <td>3600.0</td>\n",
       "      <td>40.635039</td>\n",
       "      <td>-75.371432</td>\n",
       "      <td>US</td>\n",
       "      <td>2019</td>\n",
       "      <td>12</td>\n",
       "      <td>US</td>\n",
       "    </tr>\n",
       "    <tr>\n",
       "      <th>76212</th>\n",
       "      <td>2019-12-22 22:15:00</td>\n",
       "      <td>Kennett Square</td>\n",
       "      <td>PA</td>\n",
       "      <td>triangle</td>\n",
       "      <td>180.0</td>\n",
       "      <td>39.846800</td>\n",
       "      <td>-75.711600</td>\n",
       "      <td>US</td>\n",
       "      <td>2019</td>\n",
       "      <td>12</td>\n",
       "      <td>US</td>\n",
       "    </tr>\n",
       "    <tr>\n",
       "      <th>76213</th>\n",
       "      <td>2019-12-22 23:00:00</td>\n",
       "      <td>Clarkston</td>\n",
       "      <td>MI</td>\n",
       "      <td>circle</td>\n",
       "      <td>300.0</td>\n",
       "      <td>42.739865</td>\n",
       "      <td>-83.417150</td>\n",
       "      <td>US</td>\n",
       "      <td>2019</td>\n",
       "      <td>12</td>\n",
       "      <td>US</td>\n",
       "    </tr>\n",
       "    <tr>\n",
       "      <th>76214</th>\n",
       "      <td>2019-12-29 20:40:00</td>\n",
       "      <td>Wilmington</td>\n",
       "      <td>NC</td>\n",
       "      <td>rectangle</td>\n",
       "      <td>10.0</td>\n",
       "      <td>34.238375</td>\n",
       "      <td>-77.878468</td>\n",
       "      <td>US</td>\n",
       "      <td>2019</td>\n",
       "      <td>12</td>\n",
       "      <td>US</td>\n",
       "    </tr>\n",
       "  </tbody>\n",
       "</table>\n",
       "<p>76215 rows × 11 columns</p>\n",
       "</div>"
      ],
      "text/plain": [
       "                  datetime            city state      shape  duration  \\\n",
       "0      1969-01-08 21:30:00      Pittsburgh    PA      other     300.0   \n",
       "1      1969-03-01 00:00:00           Omaha    NE       oval       1.0   \n",
       "2      1969-03-15 11:00:00        Oroville    WA      cross     120.0   \n",
       "3      1969-03-15 21:00:00      Little Axe    OK  rectangle      60.0   \n",
       "4      1969-03-17 20:00:00          Odessa    WA     circle     600.0   \n",
       "...                    ...             ...   ...        ...       ...   \n",
       "76210  2019-12-22 20:35:00        Fishkill    NY     circle      60.0   \n",
       "76211  2019-12-22 21:00:00       Bethlehem    PA      other    3600.0   \n",
       "76212  2019-12-22 22:15:00  Kennett Square    PA   triangle     180.0   \n",
       "76213  2019-12-22 23:00:00       Clarkston    MI     circle     300.0   \n",
       "76214  2019-12-29 20:40:00      Wilmington    NC  rectangle      10.0   \n",
       "\n",
       "       city_latitude  city_longitude country_code  Year  Month us_ca_gb  \n",
       "0          40.443092      -79.974242           US  1969      1       US  \n",
       "1          41.254852      -96.064828           US  1969      3       US  \n",
       "2          48.879100     -119.224500           US  1969      3       US  \n",
       "3          35.232570      -97.212528           US  1969      3       US  \n",
       "4          47.340700     -118.669300           US  1969      3       US  \n",
       "...              ...             ...          ...   ...    ...      ...  \n",
       "76210      41.527700      -73.907200           US  2019     12       US  \n",
       "76211      40.635039      -75.371432           US  2019     12       US  \n",
       "76212      39.846800      -75.711600           US  2019     12       US  \n",
       "76213      42.739865      -83.417150           US  2019     12       US  \n",
       "76214      34.238375      -77.878468           US  2019     12       US  \n",
       "\n",
       "[76215 rows x 11 columns]"
      ]
     },
     "execution_count": 18,
     "metadata": {},
     "output_type": "execute_result"
    }
   ],
   "source": [
    "ufodata"
   ]
  },
  {
   "cell_type": "code",
   "execution_count": 19,
   "id": "31f2fdaf",
   "metadata": {},
   "outputs": [
    {
     "data": {
      "application/vnd.plotly.v1+json": {
       "config": {
        "linkText": "Export to plot.ly",
        "plotlyServerURL": "https://plot.ly",
        "showLink": false
       },
       "data": [
        {
         "colorbar": {
          "title": {
           "text": "Global Number of UFO  sightings"
          }
         },
         "locationmode": "country names",
         "locations": [
          "United Arab Emirates",
          "Afghanistan",
          "Antigua and Barbuda",
          "Albania",
          "Armenia",
          "Argentina",
          "Austria",
          "Australia",
          "Bosnia and Herzegovina",
          "Bangladesh",
          "Belgium",
          "Bulgaria",
          "Benin",
          "Brunei Darussalam",
          "Bolivia, Plurinational State of",
          "Brazil",
          "Bahamas",
          "Belarus",
          "Canada",
          "Switzerland",
          "Chile",
          "China",
          "Colombia",
          "Costa Rica",
          "Cuba",
          "Cyprus",
          "Czechia",
          "Germany",
          "Denmark",
          "Algeria",
          "Ecuador",
          "Estonia",
          "Egypt",
          "Spain",
          "Ethiopia",
          "Finland",
          "Fiji",
          "France",
          "Gabon",
          "United Kingdom",
          "Grenada",
          "Georgia",
          "Greece",
          "Guatemala",
          "Guyana",
          "Honduras",
          "Croatia",
          "Haiti",
          "Hungary",
          "Indonesia",
          "Ireland",
          "Israel",
          "Isle of Man",
          "India",
          "Iraq",
          "Iran, Islamic Republic of",
          "Iceland",
          "Italy",
          "Jamaica",
          "Japan",
          "Kenya",
          "Kyrgyzstan",
          "Cambodia",
          "Saint Kitts and Nevis",
          "Korea, Democratic People's Republic of",
          "Korea, Republic of",
          "Kuwait",
          "Cayman Islands",
          "Kazakhstan",
          "Lebanon",
          "Sri Lanka",
          "Liberia",
          "Lithuania",
          "Luxembourg",
          "Latvia",
          "Morocco",
          "Moldova, Republic of",
          "Myanmar",
          "Malta",
          "Mexico",
          "Malaysia",
          "Nigeria",
          "Netherlands",
          "Norway",
          "New Zealand",
          "Oman",
          "Panama",
          "Peru",
          "Philippines",
          "Pakistan",
          "Poland",
          "Palestine, State of",
          "Portugal",
          "Palau",
          "Qatar",
          "Romania",
          "Serbia",
          "Russian Federation",
          "Saudi Arabia",
          "Seychelles",
          "Sweden",
          "Singapore",
          "Saint Helena, Ascension and Tristan da Cunha",
          "Slovenia",
          "South Sudan",
          "El Salvador",
          "Syrian Arab Republic",
          "Thailand",
          "Tunisia",
          "Tonga",
          "Turkey",
          "Taiwan, Province of China",
          "Tanzania, United Republic of",
          "Ukraine",
          "United States",
          "Venezuela, Bolivarian Republic of",
          "Viet Nam",
          "South Africa",
          "Zambia",
          "Zimbabwe"
         ],
         "reversescale": true,
         "text": [
          "United Arab Emirates",
          "Afghanistan",
          "Antigua and Barbuda",
          "Albania",
          "Armenia",
          "Argentina",
          "Austria",
          "Australia",
          "Bosnia and Herzegovina",
          "Bangladesh",
          "Belgium",
          "Bulgaria",
          "Benin",
          "Brunei Darussalam",
          "Bolivia, Plurinational State of",
          "Brazil",
          "Bahamas",
          "Belarus",
          "Canada",
          "Switzerland",
          "Chile",
          "China",
          "Colombia",
          "Costa Rica",
          "Cuba",
          "Cyprus",
          "Czechia",
          "Germany",
          "Denmark",
          "Algeria",
          "Ecuador",
          "Estonia",
          "Egypt",
          "Spain",
          "Ethiopia",
          "Finland",
          "Fiji",
          "France",
          "Gabon",
          "United Kingdom",
          "Grenada",
          "Georgia",
          "Greece",
          "Guatemala",
          "Guyana",
          "Honduras",
          "Croatia",
          "Haiti",
          "Hungary",
          "Indonesia",
          "Ireland",
          "Israel",
          "Isle of Man",
          "India",
          "Iraq",
          "Iran, Islamic Republic of",
          "Iceland",
          "Italy",
          "Jamaica",
          "Japan",
          "Kenya",
          "Kyrgyzstan",
          "Cambodia",
          "Saint Kitts and Nevis",
          "Korea, Democratic People's Republic of",
          "Korea, Republic of",
          "Kuwait",
          "Cayman Islands",
          "Kazakhstan",
          "Lebanon",
          "Sri Lanka",
          "Liberia",
          "Lithuania",
          "Luxembourg",
          "Latvia",
          "Morocco",
          "Moldova, Republic of",
          "Myanmar",
          "Malta",
          "Mexico",
          "Malaysia",
          "Nigeria",
          "Netherlands",
          "Norway",
          "New Zealand",
          "Oman",
          "Panama",
          "Peru",
          "Philippines",
          "Pakistan",
          "Poland",
          "Palestine, State of",
          "Portugal",
          "Palau",
          "Qatar",
          "Romania",
          "Serbia",
          "Russian Federation",
          "Saudi Arabia",
          "Seychelles",
          "Sweden",
          "Singapore",
          "Saint Helena, Ascension and Tristan da Cunha",
          "Slovenia",
          "South Sudan",
          "El Salvador",
          "Syrian Arab Republic",
          "Thailand",
          "Tunisia",
          "Tonga",
          "Turkey",
          "Taiwan, Province of China",
          "Tanzania, United Republic of",
          "Ukraine",
          "United States",
          "Venezuela, Bolivarian Republic of",
          "Viet Nam",
          "South Africa",
          "Zambia",
          "Zimbabwe"
         ],
         "type": "choropleth",
         "z": [
          1,
          5,
          1,
          5,
          3,
          22,
          8,
          323,
          7,
          6,
          17,
          12,
          1,
          1,
          3,
          63,
          6,
          2,
          2756,
          18,
          10,
          32,
          50,
          16,
          6,
          1,
          8,
          94,
          20,
          5,
          12,
          14,
          6,
          67,
          3,
          12,
          2,
          87,
          1,
          1295,
          1,
          1,
          27,
          7,
          3,
          5,
          20,
          2,
          11,
          22,
          56,
          23,
          1,
          247,
          17,
          23,
          6,
          39,
          13,
          31,
          7,
          1,
          5,
          2,
          3,
          13,
          3,
          1,
          1,
          2,
          8,
          1,
          9,
          4,
          3,
          5,
          1,
          4,
          10,
          138,
          23,
          6,
          58,
          25,
          70,
          1,
          7,
          10,
          56,
          27,
          13,
          1,
          31,
          1,
          1,
          22,
          19,
          12,
          6,
          1,
          21,
          3,
          2,
          5,
          2,
          2,
          2,
          14,
          2,
          1,
          23,
          1,
          1,
          9,
          69819,
          15,
          11,
          106,
          3,
          3
         ]
        }
       ],
       "layout": {
        "geo": {
         "projection": {
          "type": "mercator"
         },
         "showframe": false
        },
        "template": {
         "data": {
          "bar": [
           {
            "error_x": {
             "color": "#2a3f5f"
            },
            "error_y": {
             "color": "#2a3f5f"
            },
            "marker": {
             "line": {
              "color": "#E5ECF6",
              "width": 0.5
             }
            },
            "type": "bar"
           }
          ],
          "barpolar": [
           {
            "marker": {
             "line": {
              "color": "#E5ECF6",
              "width": 0.5
             }
            },
            "type": "barpolar"
           }
          ],
          "carpet": [
           {
            "aaxis": {
             "endlinecolor": "#2a3f5f",
             "gridcolor": "white",
             "linecolor": "white",
             "minorgridcolor": "white",
             "startlinecolor": "#2a3f5f"
            },
            "baxis": {
             "endlinecolor": "#2a3f5f",
             "gridcolor": "white",
             "linecolor": "white",
             "minorgridcolor": "white",
             "startlinecolor": "#2a3f5f"
            },
            "type": "carpet"
           }
          ],
          "choropleth": [
           {
            "colorbar": {
             "outlinewidth": 0,
             "ticks": ""
            },
            "type": "choropleth"
           }
          ],
          "contour": [
           {
            "colorbar": {
             "outlinewidth": 0,
             "ticks": ""
            },
            "colorscale": [
             [
              0,
              "#0d0887"
             ],
             [
              0.1111111111111111,
              "#46039f"
             ],
             [
              0.2222222222222222,
              "#7201a8"
             ],
             [
              0.3333333333333333,
              "#9c179e"
             ],
             [
              0.4444444444444444,
              "#bd3786"
             ],
             [
              0.5555555555555556,
              "#d8576b"
             ],
             [
              0.6666666666666666,
              "#ed7953"
             ],
             [
              0.7777777777777778,
              "#fb9f3a"
             ],
             [
              0.8888888888888888,
              "#fdca26"
             ],
             [
              1,
              "#f0f921"
             ]
            ],
            "type": "contour"
           }
          ],
          "contourcarpet": [
           {
            "colorbar": {
             "outlinewidth": 0,
             "ticks": ""
            },
            "type": "contourcarpet"
           }
          ],
          "heatmap": [
           {
            "colorbar": {
             "outlinewidth": 0,
             "ticks": ""
            },
            "colorscale": [
             [
              0,
              "#0d0887"
             ],
             [
              0.1111111111111111,
              "#46039f"
             ],
             [
              0.2222222222222222,
              "#7201a8"
             ],
             [
              0.3333333333333333,
              "#9c179e"
             ],
             [
              0.4444444444444444,
              "#bd3786"
             ],
             [
              0.5555555555555556,
              "#d8576b"
             ],
             [
              0.6666666666666666,
              "#ed7953"
             ],
             [
              0.7777777777777778,
              "#fb9f3a"
             ],
             [
              0.8888888888888888,
              "#fdca26"
             ],
             [
              1,
              "#f0f921"
             ]
            ],
            "type": "heatmap"
           }
          ],
          "heatmapgl": [
           {
            "colorbar": {
             "outlinewidth": 0,
             "ticks": ""
            },
            "colorscale": [
             [
              0,
              "#0d0887"
             ],
             [
              0.1111111111111111,
              "#46039f"
             ],
             [
              0.2222222222222222,
              "#7201a8"
             ],
             [
              0.3333333333333333,
              "#9c179e"
             ],
             [
              0.4444444444444444,
              "#bd3786"
             ],
             [
              0.5555555555555556,
              "#d8576b"
             ],
             [
              0.6666666666666666,
              "#ed7953"
             ],
             [
              0.7777777777777778,
              "#fb9f3a"
             ],
             [
              0.8888888888888888,
              "#fdca26"
             ],
             [
              1,
              "#f0f921"
             ]
            ],
            "type": "heatmapgl"
           }
          ],
          "histogram": [
           {
            "marker": {
             "colorbar": {
              "outlinewidth": 0,
              "ticks": ""
             }
            },
            "type": "histogram"
           }
          ],
          "histogram2d": [
           {
            "colorbar": {
             "outlinewidth": 0,
             "ticks": ""
            },
            "colorscale": [
             [
              0,
              "#0d0887"
             ],
             [
              0.1111111111111111,
              "#46039f"
             ],
             [
              0.2222222222222222,
              "#7201a8"
             ],
             [
              0.3333333333333333,
              "#9c179e"
             ],
             [
              0.4444444444444444,
              "#bd3786"
             ],
             [
              0.5555555555555556,
              "#d8576b"
             ],
             [
              0.6666666666666666,
              "#ed7953"
             ],
             [
              0.7777777777777778,
              "#fb9f3a"
             ],
             [
              0.8888888888888888,
              "#fdca26"
             ],
             [
              1,
              "#f0f921"
             ]
            ],
            "type": "histogram2d"
           }
          ],
          "histogram2dcontour": [
           {
            "colorbar": {
             "outlinewidth": 0,
             "ticks": ""
            },
            "colorscale": [
             [
              0,
              "#0d0887"
             ],
             [
              0.1111111111111111,
              "#46039f"
             ],
             [
              0.2222222222222222,
              "#7201a8"
             ],
             [
              0.3333333333333333,
              "#9c179e"
             ],
             [
              0.4444444444444444,
              "#bd3786"
             ],
             [
              0.5555555555555556,
              "#d8576b"
             ],
             [
              0.6666666666666666,
              "#ed7953"
             ],
             [
              0.7777777777777778,
              "#fb9f3a"
             ],
             [
              0.8888888888888888,
              "#fdca26"
             ],
             [
              1,
              "#f0f921"
             ]
            ],
            "type": "histogram2dcontour"
           }
          ],
          "mesh3d": [
           {
            "colorbar": {
             "outlinewidth": 0,
             "ticks": ""
            },
            "type": "mesh3d"
           }
          ],
          "parcoords": [
           {
            "line": {
             "colorbar": {
              "outlinewidth": 0,
              "ticks": ""
             }
            },
            "type": "parcoords"
           }
          ],
          "pie": [
           {
            "automargin": true,
            "type": "pie"
           }
          ],
          "scatter": [
           {
            "marker": {
             "colorbar": {
              "outlinewidth": 0,
              "ticks": ""
             }
            },
            "type": "scatter"
           }
          ],
          "scatter3d": [
           {
            "line": {
             "colorbar": {
              "outlinewidth": 0,
              "ticks": ""
             }
            },
            "marker": {
             "colorbar": {
              "outlinewidth": 0,
              "ticks": ""
             }
            },
            "type": "scatter3d"
           }
          ],
          "scattercarpet": [
           {
            "marker": {
             "colorbar": {
              "outlinewidth": 0,
              "ticks": ""
             }
            },
            "type": "scattercarpet"
           }
          ],
          "scattergeo": [
           {
            "marker": {
             "colorbar": {
              "outlinewidth": 0,
              "ticks": ""
             }
            },
            "type": "scattergeo"
           }
          ],
          "scattergl": [
           {
            "marker": {
             "colorbar": {
              "outlinewidth": 0,
              "ticks": ""
             }
            },
            "type": "scattergl"
           }
          ],
          "scattermapbox": [
           {
            "marker": {
             "colorbar": {
              "outlinewidth": 0,
              "ticks": ""
             }
            },
            "type": "scattermapbox"
           }
          ],
          "scatterpolar": [
           {
            "marker": {
             "colorbar": {
              "outlinewidth": 0,
              "ticks": ""
             }
            },
            "type": "scatterpolar"
           }
          ],
          "scatterpolargl": [
           {
            "marker": {
             "colorbar": {
              "outlinewidth": 0,
              "ticks": ""
             }
            },
            "type": "scatterpolargl"
           }
          ],
          "scatterternary": [
           {
            "marker": {
             "colorbar": {
              "outlinewidth": 0,
              "ticks": ""
             }
            },
            "type": "scatterternary"
           }
          ],
          "surface": [
           {
            "colorbar": {
             "outlinewidth": 0,
             "ticks": ""
            },
            "colorscale": [
             [
              0,
              "#0d0887"
             ],
             [
              0.1111111111111111,
              "#46039f"
             ],
             [
              0.2222222222222222,
              "#7201a8"
             ],
             [
              0.3333333333333333,
              "#9c179e"
             ],
             [
              0.4444444444444444,
              "#bd3786"
             ],
             [
              0.5555555555555556,
              "#d8576b"
             ],
             [
              0.6666666666666666,
              "#ed7953"
             ],
             [
              0.7777777777777778,
              "#fb9f3a"
             ],
             [
              0.8888888888888888,
              "#fdca26"
             ],
             [
              1,
              "#f0f921"
             ]
            ],
            "type": "surface"
           }
          ],
          "table": [
           {
            "cells": {
             "fill": {
              "color": "#EBF0F8"
             },
             "line": {
              "color": "white"
             }
            },
            "header": {
             "fill": {
              "color": "#C8D4E3"
             },
             "line": {
              "color": "white"
             }
            },
            "type": "table"
           }
          ]
         },
         "layout": {
          "annotationdefaults": {
           "arrowcolor": "#2a3f5f",
           "arrowhead": 0,
           "arrowwidth": 1
          },
          "autotypenumbers": "strict",
          "coloraxis": {
           "colorbar": {
            "outlinewidth": 0,
            "ticks": ""
           }
          },
          "colorscale": {
           "diverging": [
            [
             0,
             "#8e0152"
            ],
            [
             0.1,
             "#c51b7d"
            ],
            [
             0.2,
             "#de77ae"
            ],
            [
             0.3,
             "#f1b6da"
            ],
            [
             0.4,
             "#fde0ef"
            ],
            [
             0.5,
             "#f7f7f7"
            ],
            [
             0.6,
             "#e6f5d0"
            ],
            [
             0.7,
             "#b8e186"
            ],
            [
             0.8,
             "#7fbc41"
            ],
            [
             0.9,
             "#4d9221"
            ],
            [
             1,
             "#276419"
            ]
           ],
           "sequential": [
            [
             0,
             "#0d0887"
            ],
            [
             0.1111111111111111,
             "#46039f"
            ],
            [
             0.2222222222222222,
             "#7201a8"
            ],
            [
             0.3333333333333333,
             "#9c179e"
            ],
            [
             0.4444444444444444,
             "#bd3786"
            ],
            [
             0.5555555555555556,
             "#d8576b"
            ],
            [
             0.6666666666666666,
             "#ed7953"
            ],
            [
             0.7777777777777778,
             "#fb9f3a"
            ],
            [
             0.8888888888888888,
             "#fdca26"
            ],
            [
             1,
             "#f0f921"
            ]
           ],
           "sequentialminus": [
            [
             0,
             "#0d0887"
            ],
            [
             0.1111111111111111,
             "#46039f"
            ],
            [
             0.2222222222222222,
             "#7201a8"
            ],
            [
             0.3333333333333333,
             "#9c179e"
            ],
            [
             0.4444444444444444,
             "#bd3786"
            ],
            [
             0.5555555555555556,
             "#d8576b"
            ],
            [
             0.6666666666666666,
             "#ed7953"
            ],
            [
             0.7777777777777778,
             "#fb9f3a"
            ],
            [
             0.8888888888888888,
             "#fdca26"
            ],
            [
             1,
             "#f0f921"
            ]
           ]
          },
          "colorway": [
           "#636efa",
           "#EF553B",
           "#00cc96",
           "#ab63fa",
           "#FFA15A",
           "#19d3f3",
           "#FF6692",
           "#B6E880",
           "#FF97FF",
           "#FECB52"
          ],
          "font": {
           "color": "#2a3f5f"
          },
          "geo": {
           "bgcolor": "white",
           "lakecolor": "white",
           "landcolor": "#E5ECF6",
           "showlakes": true,
           "showland": true,
           "subunitcolor": "white"
          },
          "hoverlabel": {
           "align": "left"
          },
          "hovermode": "closest",
          "mapbox": {
           "style": "light"
          },
          "paper_bgcolor": "white",
          "plot_bgcolor": "#E5ECF6",
          "polar": {
           "angularaxis": {
            "gridcolor": "white",
            "linecolor": "white",
            "ticks": ""
           },
           "bgcolor": "#E5ECF6",
           "radialaxis": {
            "gridcolor": "white",
            "linecolor": "white",
            "ticks": ""
           }
          },
          "scene": {
           "xaxis": {
            "backgroundcolor": "#E5ECF6",
            "gridcolor": "white",
            "gridwidth": 2,
            "linecolor": "white",
            "showbackground": true,
            "ticks": "",
            "zerolinecolor": "white"
           },
           "yaxis": {
            "backgroundcolor": "#E5ECF6",
            "gridcolor": "white",
            "gridwidth": 2,
            "linecolor": "white",
            "showbackground": true,
            "ticks": "",
            "zerolinecolor": "white"
           },
           "zaxis": {
            "backgroundcolor": "#E5ECF6",
            "gridcolor": "white",
            "gridwidth": 2,
            "linecolor": "white",
            "showbackground": true,
            "ticks": "",
            "zerolinecolor": "white"
           }
          },
          "shapedefaults": {
           "line": {
            "color": "#2a3f5f"
           }
          },
          "ternary": {
           "aaxis": {
            "gridcolor": "white",
            "linecolor": "white",
            "ticks": ""
           },
           "baxis": {
            "gridcolor": "white",
            "linecolor": "white",
            "ticks": ""
           },
           "bgcolor": "#E5ECF6",
           "caxis": {
            "gridcolor": "white",
            "linecolor": "white",
            "ticks": ""
           }
          },
          "title": {
           "x": 0.05
          },
          "xaxis": {
           "automargin": true,
           "gridcolor": "white",
           "linecolor": "white",
           "ticks": "",
           "title": {
            "standoff": 15
           },
           "zerolinecolor": "white",
           "zerolinewidth": 2
          },
          "yaxis": {
           "automargin": true,
           "gridcolor": "white",
           "linecolor": "white",
           "ticks": "",
           "title": {
            "standoff": 15
           },
           "zerolinecolor": "white",
           "zerolinewidth": 2
          }
         }
        },
        "title": {
         "text": "Global UFO Incidents"
        }
       }
      },
      "text/html": [
       "<div>                            <div id=\"b9236604-f75e-476b-a9d9-c67ff1da5c96\" class=\"plotly-graph-div\" style=\"height:525px; width:100%;\"></div>            <script type=\"text/javascript\">                require([\"plotly\"], function(Plotly) {                    window.PLOTLYENV=window.PLOTLYENV || {};                                    if (document.getElementById(\"b9236604-f75e-476b-a9d9-c67ff1da5c96\")) {                    Plotly.newPlot(                        \"b9236604-f75e-476b-a9d9-c67ff1da5c96\",                        [{\"colorbar\": {\"title\": {\"text\": \"Global Number of UFO  sightings\"}}, \"locationmode\": \"country names\", \"locations\": [\"United Arab Emirates\", \"Afghanistan\", \"Antigua and Barbuda\", \"Albania\", \"Armenia\", \"Argentina\", \"Austria\", \"Australia\", \"Bosnia and Herzegovina\", \"Bangladesh\", \"Belgium\", \"Bulgaria\", \"Benin\", \"Brunei Darussalam\", \"Bolivia, Plurinational State of\", \"Brazil\", \"Bahamas\", \"Belarus\", \"Canada\", \"Switzerland\", \"Chile\", \"China\", \"Colombia\", \"Costa Rica\", \"Cuba\", \"Cyprus\", \"Czechia\", \"Germany\", \"Denmark\", \"Algeria\", \"Ecuador\", \"Estonia\", \"Egypt\", \"Spain\", \"Ethiopia\", \"Finland\", \"Fiji\", \"France\", \"Gabon\", \"United Kingdom\", \"Grenada\", \"Georgia\", \"Greece\", \"Guatemala\", \"Guyana\", \"Honduras\", \"Croatia\", \"Haiti\", \"Hungary\", \"Indonesia\", \"Ireland\", \"Israel\", \"Isle of Man\", \"India\", \"Iraq\", \"Iran, Islamic Republic of\", \"Iceland\", \"Italy\", \"Jamaica\", \"Japan\", \"Kenya\", \"Kyrgyzstan\", \"Cambodia\", \"Saint Kitts and Nevis\", \"Korea, Democratic People's Republic of\", \"Korea, Republic of\", \"Kuwait\", \"Cayman Islands\", \"Kazakhstan\", \"Lebanon\", \"Sri Lanka\", \"Liberia\", \"Lithuania\", \"Luxembourg\", \"Latvia\", \"Morocco\", \"Moldova, Republic of\", \"Myanmar\", \"Malta\", \"Mexico\", \"Malaysia\", \"Nigeria\", \"Netherlands\", \"Norway\", \"New Zealand\", \"Oman\", \"Panama\", \"Peru\", \"Philippines\", \"Pakistan\", \"Poland\", \"Palestine, State of\", \"Portugal\", \"Palau\", \"Qatar\", \"Romania\", \"Serbia\", \"Russian Federation\", \"Saudi Arabia\", \"Seychelles\", \"Sweden\", \"Singapore\", \"Saint Helena, Ascension and Tristan da Cunha\", \"Slovenia\", \"South Sudan\", \"El Salvador\", \"Syrian Arab Republic\", \"Thailand\", \"Tunisia\", \"Tonga\", \"Turkey\", \"Taiwan, Province of China\", \"Tanzania, United Republic of\", \"Ukraine\", \"United States\", \"Venezuela, Bolivarian Republic of\", \"Viet Nam\", \"South Africa\", \"Zambia\", \"Zimbabwe\"], \"reversescale\": true, \"text\": [\"United Arab Emirates\", \"Afghanistan\", \"Antigua and Barbuda\", \"Albania\", \"Armenia\", \"Argentina\", \"Austria\", \"Australia\", \"Bosnia and Herzegovina\", \"Bangladesh\", \"Belgium\", \"Bulgaria\", \"Benin\", \"Brunei Darussalam\", \"Bolivia, Plurinational State of\", \"Brazil\", \"Bahamas\", \"Belarus\", \"Canada\", \"Switzerland\", \"Chile\", \"China\", \"Colombia\", \"Costa Rica\", \"Cuba\", \"Cyprus\", \"Czechia\", \"Germany\", \"Denmark\", \"Algeria\", \"Ecuador\", \"Estonia\", \"Egypt\", \"Spain\", \"Ethiopia\", \"Finland\", \"Fiji\", \"France\", \"Gabon\", \"United Kingdom\", \"Grenada\", \"Georgia\", \"Greece\", \"Guatemala\", \"Guyana\", \"Honduras\", \"Croatia\", \"Haiti\", \"Hungary\", \"Indonesia\", \"Ireland\", \"Israel\", \"Isle of Man\", \"India\", \"Iraq\", \"Iran, Islamic Republic of\", \"Iceland\", \"Italy\", \"Jamaica\", \"Japan\", \"Kenya\", \"Kyrgyzstan\", \"Cambodia\", \"Saint Kitts and Nevis\", \"Korea, Democratic People's Republic of\", \"Korea, Republic of\", \"Kuwait\", \"Cayman Islands\", \"Kazakhstan\", \"Lebanon\", \"Sri Lanka\", \"Liberia\", \"Lithuania\", \"Luxembourg\", \"Latvia\", \"Morocco\", \"Moldova, Republic of\", \"Myanmar\", \"Malta\", \"Mexico\", \"Malaysia\", \"Nigeria\", \"Netherlands\", \"Norway\", \"New Zealand\", \"Oman\", \"Panama\", \"Peru\", \"Philippines\", \"Pakistan\", \"Poland\", \"Palestine, State of\", \"Portugal\", \"Palau\", \"Qatar\", \"Romania\", \"Serbia\", \"Russian Federation\", \"Saudi Arabia\", \"Seychelles\", \"Sweden\", \"Singapore\", \"Saint Helena, Ascension and Tristan da Cunha\", \"Slovenia\", \"South Sudan\", \"El Salvador\", \"Syrian Arab Republic\", \"Thailand\", \"Tunisia\", \"Tonga\", \"Turkey\", \"Taiwan, Province of China\", \"Tanzania, United Republic of\", \"Ukraine\", \"United States\", \"Venezuela, Bolivarian Republic of\", \"Viet Nam\", \"South Africa\", \"Zambia\", \"Zimbabwe\"], \"type\": \"choropleth\", \"z\": [1, 5, 1, 5, 3, 22, 8, 323, 7, 6, 17, 12, 1, 1, 3, 63, 6, 2, 2756, 18, 10, 32, 50, 16, 6, 1, 8, 94, 20, 5, 12, 14, 6, 67, 3, 12, 2, 87, 1, 1295, 1, 1, 27, 7, 3, 5, 20, 2, 11, 22, 56, 23, 1, 247, 17, 23, 6, 39, 13, 31, 7, 1, 5, 2, 3, 13, 3, 1, 1, 2, 8, 1, 9, 4, 3, 5, 1, 4, 10, 138, 23, 6, 58, 25, 70, 1, 7, 10, 56, 27, 13, 1, 31, 1, 1, 22, 19, 12, 6, 1, 21, 3, 2, 5, 2, 2, 2, 14, 2, 1, 23, 1, 1, 9, 69819, 15, 11, 106, 3, 3]}],                        {\"geo\": {\"projection\": {\"type\": \"mercator\"}, \"showframe\": false}, \"template\": {\"data\": {\"bar\": [{\"error_x\": {\"color\": \"#2a3f5f\"}, \"error_y\": {\"color\": \"#2a3f5f\"}, \"marker\": {\"line\": {\"color\": \"#E5ECF6\", \"width\": 0.5}}, \"type\": \"bar\"}], \"barpolar\": [{\"marker\": {\"line\": {\"color\": \"#E5ECF6\", \"width\": 0.5}}, \"type\": \"barpolar\"}], \"carpet\": [{\"aaxis\": {\"endlinecolor\": \"#2a3f5f\", \"gridcolor\": \"white\", \"linecolor\": \"white\", \"minorgridcolor\": \"white\", \"startlinecolor\": \"#2a3f5f\"}, \"baxis\": {\"endlinecolor\": \"#2a3f5f\", \"gridcolor\": \"white\", \"linecolor\": \"white\", \"minorgridcolor\": \"white\", \"startlinecolor\": \"#2a3f5f\"}, \"type\": \"carpet\"}], \"choropleth\": [{\"colorbar\": {\"outlinewidth\": 0, \"ticks\": \"\"}, \"type\": \"choropleth\"}], \"contour\": [{\"colorbar\": {\"outlinewidth\": 0, \"ticks\": \"\"}, \"colorscale\": [[0.0, \"#0d0887\"], [0.1111111111111111, \"#46039f\"], [0.2222222222222222, \"#7201a8\"], [0.3333333333333333, \"#9c179e\"], [0.4444444444444444, \"#bd3786\"], [0.5555555555555556, \"#d8576b\"], [0.6666666666666666, \"#ed7953\"], [0.7777777777777778, \"#fb9f3a\"], [0.8888888888888888, \"#fdca26\"], [1.0, \"#f0f921\"]], \"type\": \"contour\"}], \"contourcarpet\": [{\"colorbar\": {\"outlinewidth\": 0, \"ticks\": \"\"}, \"type\": \"contourcarpet\"}], \"heatmap\": [{\"colorbar\": {\"outlinewidth\": 0, \"ticks\": \"\"}, \"colorscale\": [[0.0, \"#0d0887\"], [0.1111111111111111, \"#46039f\"], [0.2222222222222222, \"#7201a8\"], [0.3333333333333333, \"#9c179e\"], [0.4444444444444444, \"#bd3786\"], [0.5555555555555556, \"#d8576b\"], [0.6666666666666666, \"#ed7953\"], [0.7777777777777778, \"#fb9f3a\"], [0.8888888888888888, \"#fdca26\"], [1.0, \"#f0f921\"]], \"type\": \"heatmap\"}], \"heatmapgl\": [{\"colorbar\": {\"outlinewidth\": 0, \"ticks\": \"\"}, \"colorscale\": [[0.0, \"#0d0887\"], [0.1111111111111111, \"#46039f\"], [0.2222222222222222, \"#7201a8\"], [0.3333333333333333, \"#9c179e\"], [0.4444444444444444, \"#bd3786\"], [0.5555555555555556, \"#d8576b\"], [0.6666666666666666, \"#ed7953\"], [0.7777777777777778, \"#fb9f3a\"], [0.8888888888888888, \"#fdca26\"], [1.0, \"#f0f921\"]], \"type\": \"heatmapgl\"}], \"histogram\": [{\"marker\": {\"colorbar\": {\"outlinewidth\": 0, \"ticks\": \"\"}}, \"type\": \"histogram\"}], \"histogram2d\": [{\"colorbar\": {\"outlinewidth\": 0, \"ticks\": \"\"}, \"colorscale\": [[0.0, \"#0d0887\"], [0.1111111111111111, \"#46039f\"], [0.2222222222222222, \"#7201a8\"], [0.3333333333333333, \"#9c179e\"], [0.4444444444444444, \"#bd3786\"], [0.5555555555555556, \"#d8576b\"], [0.6666666666666666, \"#ed7953\"], [0.7777777777777778, \"#fb9f3a\"], [0.8888888888888888, \"#fdca26\"], [1.0, \"#f0f921\"]], \"type\": \"histogram2d\"}], \"histogram2dcontour\": [{\"colorbar\": {\"outlinewidth\": 0, \"ticks\": \"\"}, \"colorscale\": [[0.0, \"#0d0887\"], [0.1111111111111111, \"#46039f\"], [0.2222222222222222, \"#7201a8\"], [0.3333333333333333, \"#9c179e\"], [0.4444444444444444, \"#bd3786\"], [0.5555555555555556, \"#d8576b\"], [0.6666666666666666, \"#ed7953\"], [0.7777777777777778, \"#fb9f3a\"], [0.8888888888888888, \"#fdca26\"], [1.0, \"#f0f921\"]], \"type\": \"histogram2dcontour\"}], \"mesh3d\": [{\"colorbar\": {\"outlinewidth\": 0, \"ticks\": \"\"}, \"type\": \"mesh3d\"}], \"parcoords\": [{\"line\": {\"colorbar\": {\"outlinewidth\": 0, \"ticks\": \"\"}}, \"type\": \"parcoords\"}], \"pie\": [{\"automargin\": true, \"type\": \"pie\"}], \"scatter\": [{\"marker\": {\"colorbar\": {\"outlinewidth\": 0, \"ticks\": \"\"}}, \"type\": \"scatter\"}], \"scatter3d\": [{\"line\": {\"colorbar\": {\"outlinewidth\": 0, \"ticks\": \"\"}}, \"marker\": {\"colorbar\": {\"outlinewidth\": 0, \"ticks\": \"\"}}, \"type\": \"scatter3d\"}], \"scattercarpet\": [{\"marker\": {\"colorbar\": {\"outlinewidth\": 0, \"ticks\": \"\"}}, \"type\": \"scattercarpet\"}], \"scattergeo\": [{\"marker\": {\"colorbar\": {\"outlinewidth\": 0, \"ticks\": \"\"}}, \"type\": \"scattergeo\"}], \"scattergl\": [{\"marker\": {\"colorbar\": {\"outlinewidth\": 0, \"ticks\": \"\"}}, \"type\": \"scattergl\"}], \"scattermapbox\": [{\"marker\": {\"colorbar\": {\"outlinewidth\": 0, \"ticks\": \"\"}}, \"type\": \"scattermapbox\"}], \"scatterpolar\": [{\"marker\": {\"colorbar\": {\"outlinewidth\": 0, \"ticks\": \"\"}}, \"type\": \"scatterpolar\"}], \"scatterpolargl\": [{\"marker\": {\"colorbar\": {\"outlinewidth\": 0, \"ticks\": \"\"}}, \"type\": \"scatterpolargl\"}], \"scatterternary\": [{\"marker\": {\"colorbar\": {\"outlinewidth\": 0, \"ticks\": \"\"}}, \"type\": \"scatterternary\"}], \"surface\": [{\"colorbar\": {\"outlinewidth\": 0, \"ticks\": \"\"}, \"colorscale\": [[0.0, \"#0d0887\"], [0.1111111111111111, \"#46039f\"], [0.2222222222222222, \"#7201a8\"], [0.3333333333333333, \"#9c179e\"], [0.4444444444444444, \"#bd3786\"], [0.5555555555555556, \"#d8576b\"], [0.6666666666666666, \"#ed7953\"], [0.7777777777777778, \"#fb9f3a\"], [0.8888888888888888, \"#fdca26\"], [1.0, \"#f0f921\"]], \"type\": \"surface\"}], \"table\": [{\"cells\": {\"fill\": {\"color\": \"#EBF0F8\"}, \"line\": {\"color\": \"white\"}}, \"header\": {\"fill\": {\"color\": \"#C8D4E3\"}, \"line\": {\"color\": \"white\"}}, \"type\": \"table\"}]}, \"layout\": {\"annotationdefaults\": {\"arrowcolor\": \"#2a3f5f\", \"arrowhead\": 0, \"arrowwidth\": 1}, \"autotypenumbers\": \"strict\", \"coloraxis\": {\"colorbar\": {\"outlinewidth\": 0, \"ticks\": \"\"}}, \"colorscale\": {\"diverging\": [[0, \"#8e0152\"], [0.1, \"#c51b7d\"], [0.2, \"#de77ae\"], [0.3, \"#f1b6da\"], [0.4, \"#fde0ef\"], [0.5, \"#f7f7f7\"], [0.6, \"#e6f5d0\"], [0.7, \"#b8e186\"], [0.8, \"#7fbc41\"], [0.9, \"#4d9221\"], [1, \"#276419\"]], \"sequential\": [[0.0, \"#0d0887\"], [0.1111111111111111, \"#46039f\"], [0.2222222222222222, \"#7201a8\"], [0.3333333333333333, \"#9c179e\"], [0.4444444444444444, \"#bd3786\"], [0.5555555555555556, \"#d8576b\"], [0.6666666666666666, \"#ed7953\"], [0.7777777777777778, \"#fb9f3a\"], [0.8888888888888888, \"#fdca26\"], [1.0, \"#f0f921\"]], \"sequentialminus\": [[0.0, \"#0d0887\"], [0.1111111111111111, \"#46039f\"], [0.2222222222222222, \"#7201a8\"], [0.3333333333333333, \"#9c179e\"], [0.4444444444444444, \"#bd3786\"], [0.5555555555555556, \"#d8576b\"], [0.6666666666666666, \"#ed7953\"], [0.7777777777777778, \"#fb9f3a\"], [0.8888888888888888, \"#fdca26\"], [1.0, \"#f0f921\"]]}, \"colorway\": [\"#636efa\", \"#EF553B\", \"#00cc96\", \"#ab63fa\", \"#FFA15A\", \"#19d3f3\", \"#FF6692\", \"#B6E880\", \"#FF97FF\", \"#FECB52\"], \"font\": {\"color\": \"#2a3f5f\"}, \"geo\": {\"bgcolor\": \"white\", \"lakecolor\": \"white\", \"landcolor\": \"#E5ECF6\", \"showlakes\": true, \"showland\": true, \"subunitcolor\": \"white\"}, \"hoverlabel\": {\"align\": \"left\"}, \"hovermode\": \"closest\", \"mapbox\": {\"style\": \"light\"}, \"paper_bgcolor\": \"white\", \"plot_bgcolor\": \"#E5ECF6\", \"polar\": {\"angularaxis\": {\"gridcolor\": \"white\", \"linecolor\": \"white\", \"ticks\": \"\"}, \"bgcolor\": \"#E5ECF6\", \"radialaxis\": {\"gridcolor\": \"white\", \"linecolor\": \"white\", \"ticks\": \"\"}}, \"scene\": {\"xaxis\": {\"backgroundcolor\": \"#E5ECF6\", \"gridcolor\": \"white\", \"gridwidth\": 2, \"linecolor\": \"white\", \"showbackground\": true, \"ticks\": \"\", \"zerolinecolor\": \"white\"}, \"yaxis\": {\"backgroundcolor\": \"#E5ECF6\", \"gridcolor\": \"white\", \"gridwidth\": 2, \"linecolor\": \"white\", \"showbackground\": true, \"ticks\": \"\", \"zerolinecolor\": \"white\"}, \"zaxis\": {\"backgroundcolor\": \"#E5ECF6\", \"gridcolor\": \"white\", \"gridwidth\": 2, \"linecolor\": \"white\", \"showbackground\": true, \"ticks\": \"\", \"zerolinecolor\": \"white\"}}, \"shapedefaults\": {\"line\": {\"color\": \"#2a3f5f\"}}, \"ternary\": {\"aaxis\": {\"gridcolor\": \"white\", \"linecolor\": \"white\", \"ticks\": \"\"}, \"baxis\": {\"gridcolor\": \"white\", \"linecolor\": \"white\", \"ticks\": \"\"}, \"bgcolor\": \"#E5ECF6\", \"caxis\": {\"gridcolor\": \"white\", \"linecolor\": \"white\", \"ticks\": \"\"}}, \"title\": {\"x\": 0.05}, \"xaxis\": {\"automargin\": true, \"gridcolor\": \"white\", \"linecolor\": \"white\", \"ticks\": \"\", \"title\": {\"standoff\": 15}, \"zerolinecolor\": \"white\", \"zerolinewidth\": 2}, \"yaxis\": {\"automargin\": true, \"gridcolor\": \"white\", \"linecolor\": \"white\", \"ticks\": \"\", \"title\": {\"standoff\": 15}, \"zerolinecolor\": \"white\", \"zerolinewidth\": 2}}}, \"title\": {\"text\": \"Global UFO Incidents\"}},                        {\"responsive\": true}                    ).then(function(){\n",
       "                            \n",
       "var gd = document.getElementById('b9236604-f75e-476b-a9d9-c67ff1da5c96');\n",
       "var x = new MutationObserver(function (mutations, observer) {{\n",
       "        var display = window.getComputedStyle(gd).display;\n",
       "        if (!display || display === 'none') {{\n",
       "            console.log([gd, 'removed!']);\n",
       "            Plotly.purge(gd);\n",
       "            observer.disconnect();\n",
       "        }}\n",
       "}});\n",
       "\n",
       "// Listen for the removal of the full notebook cells\n",
       "var notebookContainer = gd.closest('#notebook-container');\n",
       "if (notebookContainer) {{\n",
       "    x.observe(notebookContainer, {childList: true});\n",
       "}}\n",
       "\n",
       "// Listen for the clearing of the current output cell\n",
       "var outputEl = gd.closest('.output');\n",
       "if (outputEl) {{\n",
       "    x.observe(outputEl, {childList: true});\n",
       "}}\n",
       "\n",
       "                        })                };                });            </script>        </div>"
      ]
     },
     "metadata": {},
     "output_type": "display_data"
    }
   ],
   "source": [
    "###########################################################################################\n",
    "## Please run the notebook so that you can see the world map plot produced by this block ##\n",
    "## THANK YOU!                                                                            ##\n",
    "###########################################################################################\n",
    "\n",
    "byCountry = ufodata.groupby(['country_code']).count().reset_index()\n",
    "byCountry['count'] = byCountry['city']\n",
    "byCountry['country_name'] = byCountry['country_code'].apply(lambda x: pycountry.countries.get(alpha_2=x).name)\n",
    "\n",
    "data = dict(\n",
    "        type = 'choropleth',\n",
    "        locations = byCountry['country_name'],\n",
    "        locationmode = 'country names',\n",
    "        z = byCountry['count'],\n",
    "        text = byCountry['country_name'],\n",
    "        colorbar = {'title' : 'Global Number of UFO  sightings'},\n",
    "        reversescale = True\n",
    "      ) \n",
    "\n",
    "layout = dict(\n",
    "    title = 'Global UFO Incidents',\n",
    "    geo = dict(\n",
    "        showframe = False,\n",
    "        projection = {'type':'mercator'}\n",
    "    )\n",
    ")\n",
    "\n",
    "choromap = go.Figure(data = [data],layout = layout)\n",
    "iplot(choromap,validate=False)"
   ]
  },
  {
   "cell_type": "markdown",
   "id": "37eb0139",
   "metadata": {},
   "source": [
    "# Data forecasting"
   ]
  },
  {
   "cell_type": "markdown",
   "id": "e54c2672",
   "metadata": {},
   "source": [
    "* Predicting the number of ufo sightings in 2020 Jan. (Regression)\n",
    "* Predicting the shape of ufo in 2020 Jan. (Classification)\n",
    "* Predicting the region that ufo sighting is most likely to occur in 2020 Jan. (Classification)"
   ]
  },
  {
   "cell_type": "markdown",
   "id": "839dcd9c",
   "metadata": {},
   "source": [
    "## 1). Volume prediction"
   ]
  },
  {
   "cell_type": "markdown",
   "id": "2c85dcdb",
   "metadata": {},
   "source": [
    "Based on the plot in the linear fit graph from earlier, I decide to use a LinearRegressor for prediction."
   ]
  },
  {
   "cell_type": "code",
   "execution_count": 20,
   "id": "a78fa444",
   "metadata": {},
   "outputs": [
    {
     "name": "stdout",
     "output_type": "stream",
     "text": [
      "The total number of ufo sightings in 2020 January is predicted to be: 353\n"
     ]
    }
   ],
   "source": [
    "from sklearn.linear_model import LinearRegression\n",
    "\n",
    "X_data = byYM[['Year', 'Month']]\n",
    "y_data = byYM['count']\n",
    "reg = LinearRegression().fit(X_data, y_data)\n",
    "result = reg.predict([[2020, 1]])\n",
    "\n",
    "print('The total number of ufo sightings in 2020 January is predicted to be:', round(result[0]))"
   ]
  },
  {
   "cell_type": "markdown",
   "id": "3fa5ec75",
   "metadata": {},
   "source": [
    "Just a quick check, multiply this number 353 by 12 months, we get roughly 4236 which matches our first guess in the linear line fit plot."
   ]
  },
  {
   "cell_type": "markdown",
   "id": "dc4a97a5",
   "metadata": {},
   "source": [
    "## 2). Shape prediction"
   ]
  },
  {
   "cell_type": "code",
   "execution_count": 21,
   "id": "cf06f712",
   "metadata": {},
   "outputs": [],
   "source": [
    "from sklearn import preprocessing\n",
    "from sklearn.ensemble import RandomForestClassifier\n",
    "le = preprocessing.LabelEncoder()"
   ]
  },
  {
   "cell_type": "code",
   "execution_count": 22,
   "id": "aad961ad",
   "metadata": {},
   "outputs": [
    {
     "name": "stdout",
     "output_type": "stream",
     "text": [
      "The shape of the ufo sighting in 2020 January is most likely to be light\n"
     ]
    }
   ],
   "source": [
    "# encode the labels\n",
    "shapes = ufodata['shape'].unique()\n",
    "le.fit(shapes)\n",
    "# le.classes_\n",
    "\n",
    "X_data = ufodata[['Year', 'Month']]\n",
    "y_data = le.transform(ufodata['shape'])\n",
    "\n",
    "# train the classifier\n",
    "rf = RandomForestClassifier(max_depth=3, random_state=0)\n",
    "rf.fit(X_data, y_data)\n",
    "\n",
    "# make prediction\n",
    "result = le.inverse_transform(rf.predict([[2020, 1]]))\n",
    "print('The shape of the ufo sighting in 2020 January is most likely to be', result[0])"
   ]
  },
  {
   "cell_type": "markdown",
   "id": "3ffae44b",
   "metadata": {},
   "source": [
    "This prediction result also matches our analysis that light shaped ufo sighting is the most popular one."
   ]
  },
  {
   "cell_type": "markdown",
   "id": "e101e3df",
   "metadata": {},
   "source": [
    "## 3). Region prediction"
   ]
  },
  {
   "cell_type": "markdown",
   "id": "b5c0dcbe",
   "metadata": {
    "scrolled": false
   },
   "source": [
    "There is an extreme class imbalance problem, so taking only the first 15 countries for region prediction."
   ]
  },
  {
   "cell_type": "code",
   "execution_count": 23,
   "id": "522d189a",
   "metadata": {
    "scrolled": false
   },
   "outputs": [
    {
     "name": "stderr",
     "output_type": "stream",
     "text": [
      "/home/mary/anaconda3/envs/py36/lib/python3.6/site-packages/pandas/core/frame.py:4170: SettingWithCopyWarning:\n",
      "\n",
      "\n",
      "A value is trying to be set on a copy of a slice from a DataFrame\n",
      "\n",
      "See the caveats in the documentation: https://pandas.pydata.org/pandas-docs/stable/user_guide/indexing.html#returning-a-view-versus-a-copy\n",
      "\n"
     ]
    }
   ],
   "source": [
    "most_frequent = ufodata['country_code'].value_counts()[:15].index\n",
    "ufodata['mf'] = ufodata['country_code'].apply(lambda x: x in most_frequent)\n",
    "mf_ufodata = ufodata[ufodata['mf']==True]\n",
    "mf_ufodata.drop(['mf'], axis=1, inplace=True)"
   ]
  },
  {
   "cell_type": "code",
   "execution_count": 24,
   "id": "008538f5",
   "metadata": {},
   "outputs": [
    {
     "data": {
      "image/png": "[encoded data removed]",
      "text/plain": [
       "<Figure size 1080x432 with 1 Axes>"
      ]
     },
     "metadata": {
      "needs_background": "light"
     },
     "output_type": "display_data"
    }
   ],
   "source": [
    "# take a look at the country distribution\n",
    "plt.figure(figsize=(15,6))\n",
    "sns.countplot(x=mf_ufodata['country_code']).set(title='Top 15 Countries for UFO Sightings')\n",
    "None"
   ]
  },
  {
   "cell_type": "markdown",
   "id": "44e15d7e",
   "metadata": {},
   "source": [
    "United States has the most ufo sightings occuring and the next 2 countries are Canada and United Kingdom. Even though Canada and UK are ranked 2nd and 3rd, US is still 10x the number of Canada and UK. The reason might be that there are a lot of secret military sites used to test aerial surveillance and nuclear missile sites in US. [2] Those out-of-space creatures who use advanced technologies might also like the advanced technologies on Earth, especially in the US."
   ]
  },
  {
   "cell_type": "code",
   "execution_count": 25,
   "id": "83aa9d8a",
   "metadata": {},
   "outputs": [
    {
     "name": "stdout",
     "output_type": "stream",
     "text": [
      "As expected, in 2020 January, ufo sighting is most likely to occur in US\n"
     ]
    }
   ],
   "source": [
    "# as always, encode the labels\n",
    "countries = mf_ufodata['country_code'].unique()\n",
    "le.fit(countries)\n",
    "\n",
    "X_data = mf_ufodata[['Year', 'Month']]\n",
    "y_data = le.transform(mf_ufodata['country_code'])\n",
    "\n",
    "# train the classifier\n",
    "rf = RandomForestClassifier(max_depth=3, random_state=0)\n",
    "rf.fit(X_data, y_data)\n",
    "\n",
    "# make prediction\n",
    "result = le.inverse_transform(rf.predict([[2020, 1]]))\n",
    "print('As expected, in 2020 January, ufo sighting is most likely to occur in', result[0])"
   ]
  },
  {
   "cell_type": "markdown",
   "id": "1c1128af",
   "metadata": {},
   "source": [
    "#### References\n",
    "[1] https://www.theguardian.com/world/2018/sep/21/what-is-behind-the-decline-in-ufo-sightings\n",
    "\n",
    "[2] \\textit{\"REPORT ON THE UFO WAVE OF 1947\"} by Ted Bloecher, University of Arizona 1967."
   ]
  },
  {
   "cell_type": "code",
   "execution_count": null,
   "id": "6fe38088",
   "metadata": {},
   "outputs": [],
   "source": []
  }
 ],
 "metadata": {
  "kernelspec": {
   "display_name": "Python 3",
   "language": "python",
   "name": "python3"
  },
  "language_info": {
   "codemirror_mode": {
    "name": "ipython",
    "version": 3
   },
   "file_extension": ".py",
   "mimetype": "text/x-python",
   "name": "python",
   "nbconvert_exporter": "python",
   "pygments_lexer": "ipython3",
   "version": "3.6.13"
  },
  "latex_envs": {
   "LaTeX_envs_menu_present": true,
   "autoclose": false,
   "autocomplete": true,
   "bibliofile": "biblio.bib",
   "cite_by": "apalike",
   "current_citInitial": 1,
   "eqLabelWithNumbers": true,
   "eqNumInitial": 1,
   "hotkeys": {
    "equation": "Ctrl-E",
    "itemize": "Ctrl-I"
   },
   "labels_anchors": false,
   "latex_user_defs": false,
   "report_style_numbering": false,
   "user_envs_cfg": false
  }
 },
 "nbformat": 4,
 "nbformat_minor": 5
}
